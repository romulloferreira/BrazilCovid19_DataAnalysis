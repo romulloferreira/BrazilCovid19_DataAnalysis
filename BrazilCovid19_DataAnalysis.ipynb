{
 "cells": [
  {
   "cell_type": "markdown",
   "metadata": {},
   "source": [
    "# Brazil Covid-19 Data Analysis"
   ]
  },
  {
   "cell_type": "markdown",
   "metadata": {},
   "source": [
    "#### Author: Romullo Ferreira"
   ]
  },
  {
   "cell_type": "markdown",
   "metadata": {},
   "source": [
    "The aim of this project is to analyze Covid-19 (Brazil) data, which includes the following steps:\n",
    "\n",
    "1. Defining the list of questions to be answered with data analysis.\n",
    "2. Data wrangling \n",
    "    - 2.1. Gather\n",
    "    - 2.2. Assess\n",
    "    - 2.3. Clean\n",
    "3. Data exploration and effective communication of the exploratory steps.\n",
    "4. Conclusions."
   ]
  },
  {
   "cell_type": "markdown",
   "metadata": {},
   "source": [
    "Useful facts about the data:\n",
    "- epidemiological situation of COVID-19 in Brazil\n",
    "- The data update process is carried out daily by the Ministry of Health through official information provided by the State Health Secretariats of the 27 Brazilian Federative Units\n",
    "- 27 states of Brazil\n",
    "- 5 regions of brazil (Central-West, North, Northeast, South and Southeast)\n",
    "- Last data collection date: 2021-03-19\n",
    "- Data Source: State Health Secretariats. Brazil, 2020\n",
    "- Detailed data can be downloaded from [OpenDataSUS](https://opendatasus.saude.gov.br/)\n",
    "- You can also access the [Brazilian Open Data Portal](https://dados.gov.br/dataset) to find more coronavirus data"
   ]
  },
  {
   "cell_type": "markdown",
   "metadata": {},
   "source": [
    "## 1. Defining the list of questions to be answered with data analysis\n",
    "\n",
    "We have a lot of things to ask. The dataset has a lot of information, but for the analysis not to be too long I decided to ask some questions that I thought were important as a start. But after taking a look at my analysis feel free to ask other questions and analyze.\n",
    "\n",
    "It is important to remember that All questions below refer to Covid-19 data from Brazil:\n",
    "\n",
    "- a. - What is the total accumulated cases?\n",
    "- b. - What is the total new cases?\n",
    "- c. - What is the total recovered cases?\n",
    "- d. - What is the total followup cases?\n",
    "- e. - What is the total Covid-19 deaths?\n",
    "- f. - What is the total new deaths?\n",
    "- g. - What is the Incidence Coefficient of Covid-19?\n",
    "- h. - What is the Mortality Coefficient for Covid-19?\n",
    "- i. - What is the Covid-19 Lethality Rate?\n",
    "- j. - Which region(zone) has the highest Covid-19 Cases?\n",
    "- k. - Which states have the highest number of covid cases?\n",
    "- l. - Which cities have the highest number of covid cases?\n",
    "- m. - Which region(zone) has the highest Covid-19 deaths?\n",
    "- n. - Which states have the highest number of covid deaths?\n",
    "- o. - Which cities have the highest number of covid deaths?"
   ]
  },
  {
   "cell_type": "markdown",
   "metadata": {},
   "source": [
    "## 2. Data wrangling"
   ]
  },
  {
   "cell_type": "markdown",
   "metadata": {},
   "source": [
    "## 2.1. Gather"
   ]
  },
  {
   "cell_type": "markdown",
   "metadata": {},
   "source": [
    "Firstly, let's import all the libraries necessary for this project"
   ]
  },
  {
   "cell_type": "code",
   "execution_count": 2,
   "metadata": {},
   "outputs": [],
   "source": [
    "import pandas as pd\n",
    "import numpy as np\n",
    "\n",
    "import matplotlib.pyplot as plt\n",
    "import seaborn as sns\n",
    "%matplotlib inline"
   ]
  },
  {
   "cell_type": "markdown",
   "metadata": {},
   "source": [
    "Import CSV File"
   ]
  },
  {
   "cell_type": "code",
   "execution_count": 3,
   "metadata": {},
   "outputs": [],
   "source": [
    "df_covid19br = pd.read_csv('COVIDBR.csv', sep=';')"
   ]
  },
  {
   "cell_type": "markdown",
   "metadata": {},
   "source": [
    "## 2.2. Assess"
   ]
  },
  {
   "cell_type": "markdown",
   "metadata": {},
   "source": [
    "Let's take a look at the dataframe"
   ]
  },
  {
   "cell_type": "code",
   "execution_count": 4,
   "metadata": {},
   "outputs": [
    {
     "data": {
      "text/html": [
       "<div>\n",
       "<style scoped>\n",
       "    .dataframe tbody tr th:only-of-type {\n",
       "        vertical-align: middle;\n",
       "    }\n",
       "\n",
       "    .dataframe tbody tr th {\n",
       "        vertical-align: top;\n",
       "    }\n",
       "\n",
       "    .dataframe thead th {\n",
       "        text-align: right;\n",
       "    }\n",
       "</style>\n",
       "<table border=\"1\" class=\"dataframe\">\n",
       "  <thead>\n",
       "    <tr style=\"text-align: right;\">\n",
       "      <th></th>\n",
       "      <th>regiao</th>\n",
       "      <th>estado</th>\n",
       "      <th>municipio</th>\n",
       "      <th>coduf</th>\n",
       "      <th>codmun</th>\n",
       "      <th>codRegiaoSaude</th>\n",
       "      <th>nomeRegiaoSaude</th>\n",
       "      <th>data</th>\n",
       "      <th>semanaEpi</th>\n",
       "      <th>populacaoTCU2019</th>\n",
       "      <th>casosAcumulado</th>\n",
       "      <th>casosNovos</th>\n",
       "      <th>obitosAcumulado</th>\n",
       "      <th>obitosNovos</th>\n",
       "      <th>Recuperadosnovos</th>\n",
       "      <th>emAcompanhamentoNovos</th>\n",
       "      <th>interior/metropolitana</th>\n",
       "    </tr>\n",
       "  </thead>\n",
       "  <tbody>\n",
       "    <tr>\n",
       "      <th>91318</th>\n",
       "      <td>Norte</td>\n",
       "      <td>PA</td>\n",
       "      <td>Mocajuba</td>\n",
       "      <td>15</td>\n",
       "      <td>150460.0</td>\n",
       "      <td>15011.0</td>\n",
       "      <td>TOCANTINS</td>\n",
       "      <td>2020-11-14</td>\n",
       "      <td>46</td>\n",
       "      <td>31136.0</td>\n",
       "      <td>1415</td>\n",
       "      <td>0</td>\n",
       "      <td>24</td>\n",
       "      <td>0</td>\n",
       "      <td>NaN</td>\n",
       "      <td>NaN</td>\n",
       "      <td>0.0</td>\n",
       "    </tr>\n",
       "    <tr>\n",
       "      <th>1173489</th>\n",
       "      <td>Sudeste</td>\n",
       "      <td>RJ</td>\n",
       "      <td>Porciúncula</td>\n",
       "      <td>33</td>\n",
       "      <td>330410.0</td>\n",
       "      <td>33007.0</td>\n",
       "      <td>NOROESTE</td>\n",
       "      <td>2020-09-12</td>\n",
       "      <td>37</td>\n",
       "      <td>18847.0</td>\n",
       "      <td>597</td>\n",
       "      <td>0</td>\n",
       "      <td>15</td>\n",
       "      <td>0</td>\n",
       "      <td>NaN</td>\n",
       "      <td>NaN</td>\n",
       "      <td>0.0</td>\n",
       "    </tr>\n",
       "    <tr>\n",
       "      <th>376044</th>\n",
       "      <td>Nordeste</td>\n",
       "      <td>CE</td>\n",
       "      <td>Nova Russas</td>\n",
       "      <td>23</td>\n",
       "      <td>230930.0</td>\n",
       "      <td>23015.0</td>\n",
       "      <td>15ª REGIAO CRATEUS</td>\n",
       "      <td>2021-03-10</td>\n",
       "      <td>10</td>\n",
       "      <td>32328.0</td>\n",
       "      <td>1166</td>\n",
       "      <td>14</td>\n",
       "      <td>23</td>\n",
       "      <td>0</td>\n",
       "      <td>NaN</td>\n",
       "      <td>NaN</td>\n",
       "      <td>0.0</td>\n",
       "    </tr>\n",
       "    <tr>\n",
       "      <th>1437070</th>\n",
       "      <td>Sul</td>\n",
       "      <td>PR</td>\n",
       "      <td>Campina do Simão</td>\n",
       "      <td>41</td>\n",
       "      <td>410395.0</td>\n",
       "      <td>41005.0</td>\n",
       "      <td>5ª RS GUARAPUAVA</td>\n",
       "      <td>2020-12-14</td>\n",
       "      <td>51</td>\n",
       "      <td>3887.0</td>\n",
       "      <td>14</td>\n",
       "      <td>0</td>\n",
       "      <td>1</td>\n",
       "      <td>0</td>\n",
       "      <td>NaN</td>\n",
       "      <td>NaN</td>\n",
       "      <td>0.0</td>\n",
       "    </tr>\n",
       "    <tr>\n",
       "      <th>1451000</th>\n",
       "      <td>Sul</td>\n",
       "      <td>PR</td>\n",
       "      <td>Curitiba</td>\n",
       "      <td>41</td>\n",
       "      <td>410690.0</td>\n",
       "      <td>41002.0</td>\n",
       "      <td>2ª RS METROPOLITANA</td>\n",
       "      <td>2020-11-12</td>\n",
       "      <td>46</td>\n",
       "      <td>1933105.0</td>\n",
       "      <td>41234</td>\n",
       "      <td>91</td>\n",
       "      <td>1545</td>\n",
       "      <td>29</td>\n",
       "      <td>NaN</td>\n",
       "      <td>NaN</td>\n",
       "      <td>1.0</td>\n",
       "    </tr>\n",
       "  </tbody>\n",
       "</table>\n",
       "</div>"
      ],
      "text/plain": [
       "           regiao estado         municipio  coduf    codmun  codRegiaoSaude  \\\n",
       "91318       Norte     PA          Mocajuba     15  150460.0         15011.0   \n",
       "1173489   Sudeste     RJ       Porciúncula     33  330410.0         33007.0   \n",
       "376044   Nordeste     CE       Nova Russas     23  230930.0         23015.0   \n",
       "1437070       Sul     PR  Campina do Simão     41  410395.0         41005.0   \n",
       "1451000       Sul     PR          Curitiba     41  410690.0         41002.0   \n",
       "\n",
       "             nomeRegiaoSaude        data  semanaEpi  populacaoTCU2019  \\\n",
       "91318              TOCANTINS  2020-11-14         46           31136.0   \n",
       "1173489             NOROESTE  2020-09-12         37           18847.0   \n",
       "376044    15ª REGIAO CRATEUS  2021-03-10         10           32328.0   \n",
       "1437070     5ª RS GUARAPUAVA  2020-12-14         51            3887.0   \n",
       "1451000  2ª RS METROPOLITANA  2020-11-12         46         1933105.0   \n",
       "\n",
       "         casosAcumulado  casosNovos  obitosAcumulado  obitosNovos  \\\n",
       "91318              1415           0               24            0   \n",
       "1173489             597           0               15            0   \n",
       "376044             1166          14               23            0   \n",
       "1437070              14           0                1            0   \n",
       "1451000           41234          91             1545           29   \n",
       "\n",
       "         Recuperadosnovos  emAcompanhamentoNovos  interior/metropolitana  \n",
       "91318                 NaN                    NaN                     0.0  \n",
       "1173489               NaN                    NaN                     0.0  \n",
       "376044                NaN                    NaN                     0.0  \n",
       "1437070               NaN                    NaN                     0.0  \n",
       "1451000               NaN                    NaN                     1.0  "
      ]
     },
     "execution_count": 4,
     "metadata": {},
     "output_type": "execute_result"
    }
   ],
   "source": [
    "df_covid19br.sample(5)"
   ]
  },
  {
   "cell_type": "markdown",
   "metadata": {},
   "source": [
    "We can already see that there are missing values in the columns estado, municipio, codmun and other columns for example."
   ]
  },
  {
   "cell_type": "markdown",
   "metadata": {},
   "source": [
    "Here we can see the size of original dataset, 2.012.472 rows e 17 columns."
   ]
  },
  {
   "cell_type": "code",
   "execution_count": 5,
   "metadata": {},
   "outputs": [
    {
     "data": {
      "text/plain": [
       "(2012472, 17)"
      ]
     },
     "execution_count": 5,
     "metadata": {},
     "output_type": "execute_result"
    }
   ],
   "source": [
    "df_covid19br.shape"
   ]
  },
  {
   "cell_type": "markdown",
   "metadata": {},
   "source": [
    "Let's count the unique values"
   ]
  },
  {
   "cell_type": "code",
   "execution_count": 6,
   "metadata": {},
   "outputs": [
    {
     "data": {
      "text/plain": [
       "regiao                        6\n",
       "estado                       27\n",
       "municipio                  5297\n",
       "coduf                        28\n",
       "codmun                     5591\n",
       "codRegiaoSaude              450\n",
       "nomeRegiaoSaude             440\n",
       "data                        389\n",
       "semanaEpi                    53\n",
       "populacaoTCU2019           5104\n",
       "casosAcumulado            33078\n",
       "casosNovos                 3779\n",
       "obitosAcumulado            7273\n",
       "obitosNovos                 641\n",
       "Recuperadosnovos            336\n",
       "emAcompanhamentoNovos       336\n",
       "interior/metropolitana        2\n",
       "dtype: int64"
      ]
     },
     "execution_count": 6,
     "metadata": {},
     "output_type": "execute_result"
    }
   ],
   "source": [
    "df_covid19br.nunique()"
   ]
  },
  {
   "cell_type": "markdown",
   "metadata": {},
   "source": [
    "##### Let's create a copy of the original dataframe. And create another dataframe (filtered_df), only data on date 2021-03-19, which is where I'm going to focus my analysis."
   ]
  },
  {
   "cell_type": "code",
   "execution_count": 7,
   "metadata": {
    "scrolled": true
   },
   "outputs": [
    {
     "data": {
      "text/html": [
       "<div>\n",
       "<style scoped>\n",
       "    .dataframe tbody tr th:only-of-type {\n",
       "        vertical-align: middle;\n",
       "    }\n",
       "\n",
       "    .dataframe tbody tr th {\n",
       "        vertical-align: top;\n",
       "    }\n",
       "\n",
       "    .dataframe thead th {\n",
       "        text-align: right;\n",
       "    }\n",
       "</style>\n",
       "<table border=\"1\" class=\"dataframe\">\n",
       "  <thead>\n",
       "    <tr style=\"text-align: right;\">\n",
       "      <th></th>\n",
       "      <th>regiao</th>\n",
       "      <th>estado</th>\n",
       "      <th>municipio</th>\n",
       "      <th>coduf</th>\n",
       "      <th>codmun</th>\n",
       "      <th>codRegiaoSaude</th>\n",
       "      <th>nomeRegiaoSaude</th>\n",
       "      <th>data</th>\n",
       "      <th>semanaEpi</th>\n",
       "      <th>populacaoTCU2019</th>\n",
       "      <th>casosAcumulado</th>\n",
       "      <th>casosNovos</th>\n",
       "      <th>obitosAcumulado</th>\n",
       "      <th>obitosNovos</th>\n",
       "      <th>Recuperadosnovos</th>\n",
       "      <th>emAcompanhamentoNovos</th>\n",
       "      <th>interior/metropolitana</th>\n",
       "    </tr>\n",
       "  </thead>\n",
       "  <tbody>\n",
       "    <tr>\n",
       "      <th>792407</th>\n",
       "      <td>Nordeste</td>\n",
       "      <td>BA</td>\n",
       "      <td>Santa Maria da Vitória</td>\n",
       "      <td>29</td>\n",
       "      <td>292810.0</td>\n",
       "      <td>29021.0</td>\n",
       "      <td>SANTA MARIA DA VITORIA</td>\n",
       "      <td>2021-03-19</td>\n",
       "      <td>11</td>\n",
       "      <td>39845.0</td>\n",
       "      <td>1069</td>\n",
       "      <td>12</td>\n",
       "      <td>19</td>\n",
       "      <td>2</td>\n",
       "      <td>NaN</td>\n",
       "      <td>NaN</td>\n",
       "      <td>0.0</td>\n",
       "    </tr>\n",
       "    <tr>\n",
       "      <th>1486211</th>\n",
       "      <td>Sul</td>\n",
       "      <td>PR</td>\n",
       "      <td>Luiziana</td>\n",
       "      <td>41</td>\n",
       "      <td>411373.0</td>\n",
       "      <td>41011.0</td>\n",
       "      <td>11ª RS CAMPO MOURAO</td>\n",
       "      <td>2021-03-19</td>\n",
       "      <td>11</td>\n",
       "      <td>7262.0</td>\n",
       "      <td>275</td>\n",
       "      <td>2</td>\n",
       "      <td>3</td>\n",
       "      <td>0</td>\n",
       "      <td>NaN</td>\n",
       "      <td>NaN</td>\n",
       "      <td>0.0</td>\n",
       "    </tr>\n",
       "    <tr>\n",
       "      <th>706487</th>\n",
       "      <td>Nordeste</td>\n",
       "      <td>BA</td>\n",
       "      <td>Conceição do Jacuípe</td>\n",
       "      <td>29</td>\n",
       "      <td>290850.0</td>\n",
       "      <td>29006.0</td>\n",
       "      <td>FEIRA DE SANTANA</td>\n",
       "      <td>2021-03-19</td>\n",
       "      <td>11</td>\n",
       "      <td>33153.0</td>\n",
       "      <td>1948</td>\n",
       "      <td>6</td>\n",
       "      <td>16</td>\n",
       "      <td>1</td>\n",
       "      <td>NaN</td>\n",
       "      <td>NaN</td>\n",
       "      <td>0.0</td>\n",
       "    </tr>\n",
       "  </tbody>\n",
       "</table>\n",
       "</div>"
      ],
      "text/plain": [
       "           regiao estado               municipio  coduf    codmun  \\\n",
       "792407   Nordeste     BA  Santa Maria da Vitória     29  292810.0   \n",
       "1486211       Sul     PR                Luiziana     41  411373.0   \n",
       "706487   Nordeste     BA    Conceição do Jacuípe     29  290850.0   \n",
       "\n",
       "         codRegiaoSaude         nomeRegiaoSaude        data  semanaEpi  \\\n",
       "792407          29021.0  SANTA MARIA DA VITORIA  2021-03-19         11   \n",
       "1486211         41011.0     11ª RS CAMPO MOURAO  2021-03-19         11   \n",
       "706487          29006.0        FEIRA DE SANTANA  2021-03-19         11   \n",
       "\n",
       "         populacaoTCU2019  casosAcumulado  casosNovos  obitosAcumulado  \\\n",
       "792407            39845.0            1069          12               19   \n",
       "1486211            7262.0             275           2                3   \n",
       "706487            33153.0            1948           6               16   \n",
       "\n",
       "         obitosNovos  Recuperadosnovos  emAcompanhamentoNovos  \\\n",
       "792407             2               NaN                    NaN   \n",
       "1486211            0               NaN                    NaN   \n",
       "706487             1               NaN                    NaN   \n",
       "\n",
       "         interior/metropolitana  \n",
       "792407                      0.0  \n",
       "1486211                     0.0  \n",
       "706487                      0.0  "
      ]
     },
     "execution_count": 7,
     "metadata": {},
     "output_type": "execute_result"
    }
   ],
   "source": [
    "filtered_df = df_covid19br.copy()\n",
    "filtered_df = filtered_df.query(\"data > '2021-03-18'\")\n",
    "filtered_df.sample(3)"
   ]
  },
  {
   "cell_type": "markdown",
   "metadata": {},
   "source": [
    "Dimensions of the dataframe. Here we can already see that our filtered dataframe is much smaller than the original file, with 5619 rows and 17 columns. "
   ]
  },
  {
   "cell_type": "code",
   "execution_count": 8,
   "metadata": {},
   "outputs": [
    {
     "data": {
      "text/plain": [
       "(5619, 17)"
      ]
     },
     "execution_count": 8,
     "metadata": {},
     "output_type": "execute_result"
    }
   ],
   "source": [
    "filtered_df.shape"
   ]
  },
  {
   "cell_type": "markdown",
   "metadata": {},
   "source": [
    "- Which columns have missing values? \n",
    "- Here we can already see that the \"munincipio\" column has only 5570 against 5619 of the original file. This means that we have 49 missing values. And the \"codmun\" column has only 5591 out of a total of 5619, this means that we have 28 missing values. Let's keep that information."
   ]
  },
  {
   "cell_type": "code",
   "execution_count": 9,
   "metadata": {
    "scrolled": true
   },
   "outputs": [
    {
     "name": "stdout",
     "output_type": "stream",
     "text": [
      "<class 'pandas.core.frame.DataFrame'>\n",
      "Int64Index: 5619 entries, 390 to 2012471\n",
      "Data columns (total 17 columns):\n",
      "regiao                    5619 non-null object\n",
      "estado                    5618 non-null object\n",
      "municipio                 5570 non-null object\n",
      "coduf                     5619 non-null int64\n",
      "codmun                    5591 non-null float64\n",
      "codRegiaoSaude            5570 non-null float64\n",
      "nomeRegiaoSaude           5570 non-null object\n",
      "data                      5619 non-null object\n",
      "semanaEpi                 5619 non-null int64\n",
      "populacaoTCU2019          5598 non-null float64\n",
      "casosAcumulado            5619 non-null int64\n",
      "casosNovos                5619 non-null int64\n",
      "obitosAcumulado           5619 non-null int64\n",
      "obitosNovos               5619 non-null int64\n",
      "Recuperadosnovos          1 non-null float64\n",
      "emAcompanhamentoNovos     1 non-null float64\n",
      "interior/metropolitana    5570 non-null float64\n",
      "dtypes: float64(6), int64(6), object(5)\n",
      "memory usage: 790.2+ KB\n"
     ]
    }
   ],
   "source": [
    "filtered_df.info()"
   ]
  },
  {
   "cell_type": "markdown",
   "metadata": {},
   "source": [
    "Another way to see missing values. Count of missing values."
   ]
  },
  {
   "cell_type": "code",
   "execution_count": 10,
   "metadata": {},
   "outputs": [
    {
     "data": {
      "text/plain": [
       "regiao                       0\n",
       "estado                       1\n",
       "municipio                   49\n",
       "coduf                        0\n",
       "codmun                      28\n",
       "codRegiaoSaude              49\n",
       "nomeRegiaoSaude             49\n",
       "data                         0\n",
       "semanaEpi                    0\n",
       "populacaoTCU2019            21\n",
       "casosAcumulado               0\n",
       "casosNovos                   0\n",
       "obitosAcumulado              0\n",
       "obitosNovos                  0\n",
       "Recuperadosnovos          5618\n",
       "emAcompanhamentoNovos     5618\n",
       "interior/metropolitana      49\n",
       "dtype: int64"
      ]
     },
     "execution_count": 10,
     "metadata": {},
     "output_type": "execute_result"
    }
   ],
   "source": [
    "filtered_df.isnull().sum()"
   ]
  },
  {
   "cell_type": "markdown",
   "metadata": {},
   "source": [
    "## 2.3. Clean"
   ]
  },
  {
   "cell_type": "markdown",
   "metadata": {},
   "source": [
    "Make copy of the filtered_df dataframe to clean"
   ]
  },
  {
   "cell_type": "code",
   "execution_count": 11,
   "metadata": {},
   "outputs": [],
   "source": [
    "df_clean = filtered_df.copy()"
   ]
  },
  {
   "cell_type": "markdown",
   "metadata": {},
   "source": [
    "### #Delete columns "
   ]
  },
  {
   "cell_type": "markdown",
   "metadata": {},
   "source": [
    "* The columns 'coduf ', ' codRegiaoSaude ', ' nomeRegiaoSaude ', 'populacaoTCU2019',  'semanaEpi ' and ' interior / metropolitana ' are not required, because I will not use it in my analysis until now."
   ]
  },
  {
   "cell_type": "markdown",
   "metadata": {},
   "source": [
    "#### Define"
   ]
  },
  {
   "cell_type": "markdown",
   "metadata": {},
   "source": [
    "* We will delete the columns 'coduf ', ' codRegiaoSaude ', ' nomeRegiaoSaude ', 'PopilacaoTCU2019', semanaEpi ' and ' interior / metropolitana ' "
   ]
  },
  {
   "cell_type": "markdown",
   "metadata": {},
   "source": [
    "#### Code"
   ]
  },
  {
   "cell_type": "code",
   "execution_count": 12,
   "metadata": {},
   "outputs": [],
   "source": [
    "colunas = ['coduf', 'codRegiaoSaude', 'nomeRegiaoSaude', 'populacaoTCU2019', 'semanaEpi', 'interior/metropolitana']\n",
    "df_clean.drop(columns = colunas, inplace = True)"
   ]
  },
  {
   "cell_type": "markdown",
   "metadata": {},
   "source": [
    "#### Test"
   ]
  },
  {
   "cell_type": "code",
   "execution_count": 13,
   "metadata": {},
   "outputs": [
    {
     "name": "stdout",
     "output_type": "stream",
     "text": [
      "<class 'pandas.core.frame.DataFrame'>\n",
      "Int64Index: 5619 entries, 390 to 2012471\n",
      "Data columns (total 11 columns):\n",
      "regiao                   5619 non-null object\n",
      "estado                   5618 non-null object\n",
      "municipio                5570 non-null object\n",
      "codmun                   5591 non-null float64\n",
      "data                     5619 non-null object\n",
      "casosAcumulado           5619 non-null int64\n",
      "casosNovos               5619 non-null int64\n",
      "obitosAcumulado          5619 non-null int64\n",
      "obitosNovos              5619 non-null int64\n",
      "Recuperadosnovos         1 non-null float64\n",
      "emAcompanhamentoNovos    1 non-null float64\n",
      "dtypes: float64(3), int64(4), object(4)\n",
      "memory usage: 526.8+ KB\n"
     ]
    }
   ],
   "source": [
    "df_clean.info()"
   ]
  },
  {
   "cell_type": "code",
   "execution_count": 14,
   "metadata": {},
   "outputs": [
    {
     "data": {
      "text/html": [
       "<div>\n",
       "<style scoped>\n",
       "    .dataframe tbody tr th:only-of-type {\n",
       "        vertical-align: middle;\n",
       "    }\n",
       "\n",
       "    .dataframe tbody tr th {\n",
       "        vertical-align: top;\n",
       "    }\n",
       "\n",
       "    .dataframe thead th {\n",
       "        text-align: right;\n",
       "    }\n",
       "</style>\n",
       "<table border=\"1\" class=\"dataframe\">\n",
       "  <thead>\n",
       "    <tr style=\"text-align: right;\">\n",
       "      <th></th>\n",
       "      <th>regiao</th>\n",
       "      <th>estado</th>\n",
       "      <th>municipio</th>\n",
       "      <th>codmun</th>\n",
       "      <th>data</th>\n",
       "      <th>casosAcumulado</th>\n",
       "      <th>casosNovos</th>\n",
       "      <th>obitosAcumulado</th>\n",
       "      <th>obitosNovos</th>\n",
       "      <th>Recuperadosnovos</th>\n",
       "      <th>emAcompanhamentoNovos</th>\n",
       "    </tr>\n",
       "  </thead>\n",
       "  <tbody>\n",
       "    <tr>\n",
       "      <th>1254943</th>\n",
       "      <td>Sudeste</td>\n",
       "      <td>SP</td>\n",
       "      <td>Gastão Vidigal</td>\n",
       "      <td>351680.0</td>\n",
       "      <td>2021-03-19</td>\n",
       "      <td>108</td>\n",
       "      <td>0</td>\n",
       "      <td>12</td>\n",
       "      <td>0</td>\n",
       "      <td>NaN</td>\n",
       "      <td>NaN</td>\n",
       "    </tr>\n",
       "    <tr>\n",
       "      <th>343475</th>\n",
       "      <td>Nordeste</td>\n",
       "      <td>CE</td>\n",
       "      <td>Camocim</td>\n",
       "      <td>230260.0</td>\n",
       "      <td>2021-03-19</td>\n",
       "      <td>3277</td>\n",
       "      <td>49</td>\n",
       "      <td>97</td>\n",
       "      <td>0</td>\n",
       "      <td>NaN</td>\n",
       "      <td>NaN</td>\n",
       "    </tr>\n",
       "    <tr>\n",
       "      <th>673551</th>\n",
       "      <td>Nordeste</td>\n",
       "      <td>BA</td>\n",
       "      <td>Amélia Rodrigues</td>\n",
       "      <td>290110.0</td>\n",
       "      <td>2021-03-19</td>\n",
       "      <td>1473</td>\n",
       "      <td>31</td>\n",
       "      <td>29</td>\n",
       "      <td>2</td>\n",
       "      <td>NaN</td>\n",
       "      <td>NaN</td>\n",
       "    </tr>\n",
       "  </tbody>\n",
       "</table>\n",
       "</div>"
      ],
      "text/plain": [
       "           regiao estado         municipio    codmun        data  \\\n",
       "1254943   Sudeste     SP    Gastão Vidigal  351680.0  2021-03-19   \n",
       "343475   Nordeste     CE           Camocim  230260.0  2021-03-19   \n",
       "673551   Nordeste     BA  Amélia Rodrigues  290110.0  2021-03-19   \n",
       "\n",
       "         casosAcumulado  casosNovos  obitosAcumulado  obitosNovos  \\\n",
       "1254943             108           0               12            0   \n",
       "343475             3277          49               97            0   \n",
       "673551             1473          31               29            2   \n",
       "\n",
       "         Recuperadosnovos  emAcompanhamentoNovos  \n",
       "1254943               NaN                    NaN  \n",
       "343475                NaN                    NaN  \n",
       "673551                NaN                    NaN  "
      ]
     },
     "execution_count": 14,
     "metadata": {},
     "output_type": "execute_result"
    }
   ],
   "source": [
    "df_clean.sample(3)"
   ]
  },
  {
   "cell_type": "code",
   "execution_count": 15,
   "metadata": {},
   "outputs": [
    {
     "data": {
      "text/plain": [
       "(5619, 11)"
      ]
     },
     "execution_count": 15,
     "metadata": {},
     "output_type": "execute_result"
    }
   ],
   "source": [
    "df_clean.shape"
   ]
  },
  {
   "cell_type": "markdown",
   "metadata": {},
   "source": [
    "### #Rename columns"
   ]
  },
  {
   "cell_type": "markdown",
   "metadata": {},
   "source": [
    "* I decided to rename the columns to be better for everyone who is going to analyze this file, and improve visualization."
   ]
  },
  {
   "cell_type": "markdown",
   "metadata": {},
   "source": [
    "#### Define"
   ]
  },
  {
   "cell_type": "markdown",
   "metadata": {},
   "source": [
    "* Let's rename the columns"
   ]
  },
  {
   "cell_type": "markdown",
   "metadata": {},
   "source": [
    "#### Code"
   ]
  },
  {
   "cell_type": "code",
   "execution_count": 16,
   "metadata": {},
   "outputs": [],
   "source": [
    "renamecolumns = {'regiao':'region', 'estado': 'state', 'municipio' : 'city', 'codmun': 'codcity', 'data': 'date', 'casosAcumulado': 'totalInfected', 'casosNovos': 'newInfected', 'obitosAcumulado': 'totalDeaths', 'obitosNovos': 'newdeaths', 'Recuperadosnovos': 'recovered', 'emAcompanhamentoNovos': 'followUp'}\n",
    "df_clean = df_clean.rename(columns = renamecolumns)"
   ]
  },
  {
   "cell_type": "markdown",
   "metadata": {},
   "source": [
    "#### Test"
   ]
  },
  {
   "cell_type": "code",
   "execution_count": 17,
   "metadata": {},
   "outputs": [
    {
     "data": {
      "text/html": [
       "<div>\n",
       "<style scoped>\n",
       "    .dataframe tbody tr th:only-of-type {\n",
       "        vertical-align: middle;\n",
       "    }\n",
       "\n",
       "    .dataframe tbody tr th {\n",
       "        vertical-align: top;\n",
       "    }\n",
       "\n",
       "    .dataframe thead th {\n",
       "        text-align: right;\n",
       "    }\n",
       "</style>\n",
       "<table border=\"1\" class=\"dataframe\">\n",
       "  <thead>\n",
       "    <tr style=\"text-align: right;\">\n",
       "      <th></th>\n",
       "      <th>region</th>\n",
       "      <th>state</th>\n",
       "      <th>city</th>\n",
       "      <th>codcity</th>\n",
       "      <th>date</th>\n",
       "      <th>totalInfected</th>\n",
       "      <th>newInfected</th>\n",
       "      <th>totalDeaths</th>\n",
       "      <th>newdeaths</th>\n",
       "      <th>recovered</th>\n",
       "      <th>followUp</th>\n",
       "    </tr>\n",
       "  </thead>\n",
       "  <tbody>\n",
       "    <tr>\n",
       "      <th>395385</th>\n",
       "      <td>Nordeste</td>\n",
       "      <td>CE</td>\n",
       "      <td>Ubajara</td>\n",
       "      <td>231360.0</td>\n",
       "      <td>2021-03-19</td>\n",
       "      <td>1392</td>\n",
       "      <td>9</td>\n",
       "      <td>31</td>\n",
       "      <td>0</td>\n",
       "      <td>NaN</td>\n",
       "      <td>NaN</td>\n",
       "    </tr>\n",
       "    <tr>\n",
       "      <th>1408883</th>\n",
       "      <td>Sudeste</td>\n",
       "      <td>SP</td>\n",
       "      <td>Ubatuba</td>\n",
       "      <td>355540.0</td>\n",
       "      <td>2021-03-19</td>\n",
       "      <td>4436</td>\n",
       "      <td>10</td>\n",
       "      <td>78</td>\n",
       "      <td>0</td>\n",
       "      <td>NaN</td>\n",
       "      <td>NaN</td>\n",
       "    </tr>\n",
       "    <tr>\n",
       "      <th>1113891</th>\n",
       "      <td>Sudeste</td>\n",
       "      <td>MG</td>\n",
       "      <td>Uberlândia</td>\n",
       "      <td>317020.0</td>\n",
       "      <td>2021-03-19</td>\n",
       "      <td>76003</td>\n",
       "      <td>845</td>\n",
       "      <td>1472</td>\n",
       "      <td>19</td>\n",
       "      <td>NaN</td>\n",
       "      <td>NaN</td>\n",
       "    </tr>\n",
       "  </tbody>\n",
       "</table>\n",
       "</div>"
      ],
      "text/plain": [
       "           region state        city   codcity        date  totalInfected  \\\n",
       "395385   Nordeste    CE     Ubajara  231360.0  2021-03-19           1392   \n",
       "1408883   Sudeste    SP     Ubatuba  355540.0  2021-03-19           4436   \n",
       "1113891   Sudeste    MG  Uberlândia  317020.0  2021-03-19          76003   \n",
       "\n",
       "         newInfected  totalDeaths  newdeaths  recovered  followUp  \n",
       "395385             9           31          0        NaN       NaN  \n",
       "1408883           10           78          0        NaN       NaN  \n",
       "1113891          845         1472         19        NaN       NaN  "
      ]
     },
     "execution_count": 17,
     "metadata": {},
     "output_type": "execute_result"
    }
   ],
   "source": [
    "df_clean.sample(3)"
   ]
  },
  {
   "cell_type": "markdown",
   "metadata": {},
   "source": [
    "### #Missing values (Fixing NaN data values)"
   ]
  },
  {
   "cell_type": "markdown",
   "metadata": {},
   "source": [
    "* There are missing values from cities that have no name, let's disregard these values. "
   ]
  },
  {
   "cell_type": "markdown",
   "metadata": {},
   "source": [
    "#### Define"
   ]
  },
  {
   "cell_type": "markdown",
   "metadata": {},
   "source": [
    "* Let's exclude these cities from the analysis, because we have no way of knowing which names"
   ]
  },
  {
   "cell_type": "markdown",
   "metadata": {},
   "source": [
    "* In our project the \"city\" column is essential for our analysis, so lines that have this missing data must be excluded, so let's clean up the lines without cities. For this we will use the \"codcity\" column."
   ]
  },
  {
   "cell_type": "markdown",
   "metadata": {},
   "source": [
    "#### Code"
   ]
  },
  {
   "cell_type": "code",
   "execution_count": 18,
   "metadata": {},
   "outputs": [],
   "source": [
    "#Filter only not null lines (NaN)\n",
    "df_clean_notnull = df_clean.dropna(subset=['codcity'])"
   ]
  },
  {
   "cell_type": "markdown",
   "metadata": {},
   "source": [
    "#### Test"
   ]
  },
  {
   "cell_type": "code",
   "execution_count": 19,
   "metadata": {},
   "outputs": [
    {
     "data": {
      "text/plain": [
       "(5591, 11)"
      ]
     },
     "execution_count": 19,
     "metadata": {},
     "output_type": "execute_result"
    }
   ],
   "source": [
    "df_clean_notnull.shape"
   ]
  },
  {
   "cell_type": "code",
   "execution_count": 20,
   "metadata": {},
   "outputs": [
    {
     "data": {
      "text/plain": [
       "region           5591\n",
       "state            5591\n",
       "city             5570\n",
       "codcity          5591\n",
       "date             5591\n",
       "totalInfected    5591\n",
       "newInfected      5591\n",
       "totalDeaths      5591\n",
       "newdeaths        5591\n",
       "recovered           0\n",
       "followUp            0\n",
       "dtype: int64"
      ]
     },
     "execution_count": 20,
     "metadata": {},
     "output_type": "execute_result"
    }
   ],
   "source": [
    "df_clean_notnull.count()"
   ]
  },
  {
   "cell_type": "markdown",
   "metadata": {},
   "source": [
    "### #Duplicated Data"
   ]
  },
  {
   "cell_type": "markdown",
   "metadata": {},
   "source": [
    "##### Another important information is that in Brazil we have some cities with the same names but in different states."
   ]
  },
  {
   "cell_type": "markdown",
   "metadata": {},
   "source": [
    "Is there really duplicate data? Cities with the same names but different states.\n",
    "\n",
    "For this reason, we will not use the column 'city' (the name of the city) in our analysis. So let's use codmun to make our analysis more useful. And that is also why we are not going to delete this duplicate data.\n",
    "\n",
    "Let's take a look at the analysis of duplicate data below to understand the problem."
   ]
  },
  {
   "cell_type": "markdown",
   "metadata": {},
   "source": [
    "##### Total number of cities"
   ]
  },
  {
   "cell_type": "code",
   "execution_count": 21,
   "metadata": {},
   "outputs": [
    {
     "data": {
      "text/plain": [
       "5570"
      ]
     },
     "execution_count": 21,
     "metadata": {},
     "output_type": "execute_result"
    }
   ],
   "source": [
    "df_clean_notnull['city'].count()"
   ]
  },
  {
   "cell_type": "markdown",
   "metadata": {},
   "source": [
    "##### Counting the unique values for the \"city\" column"
   ]
  },
  {
   "cell_type": "code",
   "execution_count": 22,
   "metadata": {},
   "outputs": [
    {
     "data": {
      "text/plain": [
       "5297"
      ]
     },
     "execution_count": 22,
     "metadata": {},
     "output_type": "execute_result"
    }
   ],
   "source": [
    "df_clean_notnull['city'].nunique()"
   ]
  },
  {
   "cell_type": "markdown",
   "metadata": {},
   "source": [
    "##### Counting the occurrence of the value of cities"
   ]
  },
  {
   "cell_type": "code",
   "execution_count": 23,
   "metadata": {},
   "outputs": [
    {
     "data": {
      "text/plain": [
       "São Domingos       5\n",
       "Bom Jesus          5\n",
       "Santa Helena       4\n",
       "Santa Luzia        4\n",
       "São Francisco      4\n",
       "Planalto           4\n",
       "Vera Cruz          4\n",
       "Santa Terezinha    4\n",
       "Santa Inês         4\n",
       "Bonito             4\n",
       "Name: city, dtype: int64"
      ]
     },
     "execution_count": 23,
     "metadata": {},
     "output_type": "execute_result"
    }
   ],
   "source": [
    "df_clean_notnull['city'].value_counts().sort_values(ascending=False).head(10)"
   ]
  },
  {
   "cell_type": "markdown",
   "metadata": {},
   "source": [
    "##### List of times that the city Bom Jesus appears\n",
    "\n",
    "For example, the city Bom Jesus appears 5 times in the dataset but each city has a different state. Because they are really different cities in the country."
   ]
  },
  {
   "cell_type": "code",
   "execution_count": 24,
   "metadata": {},
   "outputs": [
    {
     "data": {
      "text/html": [
       "<div>\n",
       "<style scoped>\n",
       "    .dataframe tbody tr th:only-of-type {\n",
       "        vertical-align: middle;\n",
       "    }\n",
       "\n",
       "    .dataframe tbody tr th {\n",
       "        vertical-align: top;\n",
       "    }\n",
       "\n",
       "    .dataframe thead th {\n",
       "        text-align: right;\n",
       "    }\n",
       "</style>\n",
       "<table border=\"1\" class=\"dataframe\">\n",
       "  <thead>\n",
       "    <tr style=\"text-align: right;\">\n",
       "      <th></th>\n",
       "      <th>region</th>\n",
       "      <th>state</th>\n",
       "      <th>city</th>\n",
       "      <th>codcity</th>\n",
       "      <th>date</th>\n",
       "      <th>totalInfected</th>\n",
       "      <th>newInfected</th>\n",
       "      <th>totalDeaths</th>\n",
       "      <th>newdeaths</th>\n",
       "      <th>recovered</th>\n",
       "      <th>followUp</th>\n",
       "    </tr>\n",
       "  </thead>\n",
       "  <tbody>\n",
       "    <tr>\n",
       "      <th>262567</th>\n",
       "      <td>Nordeste</td>\n",
       "      <td>PI</td>\n",
       "      <td>Bom Jesus</td>\n",
       "      <td>220190.0</td>\n",
       "      <td>2021-03-19</td>\n",
       "      <td>2338</td>\n",
       "      <td>5</td>\n",
       "      <td>27</td>\n",
       "      <td>0</td>\n",
       "      <td>NaN</td>\n",
       "      <td>NaN</td>\n",
       "    </tr>\n",
       "    <tr>\n",
       "      <th>405051</th>\n",
       "      <td>Nordeste</td>\n",
       "      <td>RN</td>\n",
       "      <td>Bom Jesus</td>\n",
       "      <td>240170.0</td>\n",
       "      <td>2021-03-19</td>\n",
       "      <td>516</td>\n",
       "      <td>-4</td>\n",
       "      <td>10</td>\n",
       "      <td>0</td>\n",
       "      <td>NaN</td>\n",
       "      <td>NaN</td>\n",
       "    </tr>\n",
       "    <tr>\n",
       "      <th>469849</th>\n",
       "      <td>Nordeste</td>\n",
       "      <td>PB</td>\n",
       "      <td>Bom Jesus</td>\n",
       "      <td>250220.0</td>\n",
       "      <td>2021-03-19</td>\n",
       "      <td>96</td>\n",
       "      <td>1</td>\n",
       "      <td>3</td>\n",
       "      <td>0</td>\n",
       "      <td>NaN</td>\n",
       "      <td>NaN</td>\n",
       "    </tr>\n",
       "    <tr>\n",
       "      <th>1575353</th>\n",
       "      <td>Sul</td>\n",
       "      <td>SC</td>\n",
       "      <td>Bom Jesus</td>\n",
       "      <td>420253.0</td>\n",
       "      <td>2021-03-19</td>\n",
       "      <td>297</td>\n",
       "      <td>1</td>\n",
       "      <td>4</td>\n",
       "      <td>0</td>\n",
       "      <td>NaN</td>\n",
       "      <td>NaN</td>\n",
       "    </tr>\n",
       "    <tr>\n",
       "      <th>1684185</th>\n",
       "      <td>Sul</td>\n",
       "      <td>RS</td>\n",
       "      <td>Bom Jesus</td>\n",
       "      <td>430230.0</td>\n",
       "      <td>2021-03-19</td>\n",
       "      <td>490</td>\n",
       "      <td>0</td>\n",
       "      <td>12</td>\n",
       "      <td>0</td>\n",
       "      <td>NaN</td>\n",
       "      <td>NaN</td>\n",
       "    </tr>\n",
       "  </tbody>\n",
       "</table>\n",
       "</div>"
      ],
      "text/plain": [
       "           region state       city   codcity        date  totalInfected  \\\n",
       "262567   Nordeste    PI  Bom Jesus  220190.0  2021-03-19           2338   \n",
       "405051   Nordeste    RN  Bom Jesus  240170.0  2021-03-19            516   \n",
       "469849   Nordeste    PB  Bom Jesus  250220.0  2021-03-19             96   \n",
       "1575353       Sul    SC  Bom Jesus  420253.0  2021-03-19            297   \n",
       "1684185       Sul    RS  Bom Jesus  430230.0  2021-03-19            490   \n",
       "\n",
       "         newInfected  totalDeaths  newdeaths  recovered  followUp  \n",
       "262567             5           27          0        NaN       NaN  \n",
       "405051            -4           10          0        NaN       NaN  \n",
       "469849             1            3          0        NaN       NaN  \n",
       "1575353            1            4          0        NaN       NaN  \n",
       "1684185            0           12          0        NaN       NaN  "
      ]
     },
     "execution_count": 24,
     "metadata": {},
     "output_type": "execute_result"
    }
   ],
   "source": [
    "df_clean_notnull[df_clean_notnull['city'] == 'Bom Jesus'].head(5)"
   ]
  },
  {
   "cell_type": "markdown",
   "metadata": {},
   "source": [
    "##### Total cities with duplicate names"
   ]
  },
  {
   "cell_type": "code",
   "execution_count": 25,
   "metadata": {},
   "outputs": [
    {
     "data": {
      "text/plain": [
       "293"
      ]
     },
     "execution_count": 25,
     "metadata": {},
     "output_type": "execute_result"
    }
   ],
   "source": [
    "sum(df_clean_notnull.duplicated(subset='city', keep='first'))"
   ]
  },
  {
   "cell_type": "markdown",
   "metadata": {},
   "source": [
    "### 3. Data exploration and communication"
   ]
  },
  {
   "cell_type": "markdown",
   "metadata": {},
   "source": [
    "##### a. - What is the total cumulative cases?\n",
    "\n",
    "Total cumulative cases on 2021-03-19\n",
    "\n",
    "Total number of people infected with coronavirus in Brazil on 2021-03-19"
   ]
  },
  {
   "cell_type": "code",
   "execution_count": 26,
   "metadata": {},
   "outputs": [
    {
     "name": "stdout",
     "output_type": "stream",
     "text": [
      "11871390\n"
     ]
    }
   ],
   "source": [
    "totalInfected = df_clean_notnull['totalInfected'].sum() \n",
    "print(totalInfected)"
   ]
  },
  {
   "cell_type": "markdown",
   "metadata": {},
   "source": [
    "##### b. - What is the total new cases?\n",
    "\n",
    "New cases on 2021-03-19\n",
    "\n",
    "Total number of people infected with coronavirus in Brazil in the last 24 hours"
   ]
  },
  {
   "cell_type": "code",
   "execution_count": 27,
   "metadata": {},
   "outputs": [
    {
     "name": "stdout",
     "output_type": "stream",
     "text": [
      "90570\n"
     ]
    }
   ],
   "source": [
    "newInfected = df_clean_notnull['newInfected'].sum() \n",
    "print(newInfected)"
   ]
  },
  {
   "cell_type": "markdown",
   "metadata": {},
   "source": [
    "##### c. - What is the total recovered cases?\n",
    "\n",
    "Total Recovered\n",
    "\n",
    "According to the World Health Organization, for cases of COVID-19 confirmed by laboratory criteria, those who had two negative results for SARS-CoV-2 at least 1 day apart are considered as recovered. For mild cases, the WHO estimates that the time between the onset of infection and recovery will last up to 14 days.\n",
    "\n",
    "In Brazil, the number of recovered people is estimated by a composite calculation that takes into account the records of cases and deaths confirmed by COVID-19, reported by the State Health Departments, and the number of hospitalized patients registered in the Epidemiological Surveillance System of the Flu (SIVEP Flu)."
   ]
  },
  {
   "cell_type": "code",
   "execution_count": 28,
   "metadata": {},
   "outputs": [
    {
     "name": "stdout",
     "output_type": "stream",
     "text": [
      "10383460.0\n"
     ]
    }
   ],
   "source": [
    "recovered = df_clean['recovered'].sum() \n",
    "print(recovered)"
   ]
  },
  {
   "cell_type": "markdown",
   "metadata": {},
   "source": [
    "##### d. - What is the total followup cases?\n",
    "\n",
    "All cases notified in the last 14 days by the State Health Departments and that did not lead to death are considered as “follow-up”. And among the cases that presented with Severe Acute Respiratory Syndrome and were hospitalized, all those who were hospitalized in the last 14 days and who were not recovered or died were considered to be \"under monitoring\"."
   ]
  },
  {
   "cell_type": "code",
   "execution_count": 29,
   "metadata": {},
   "outputs": [
    {
     "name": "stdout",
     "output_type": "stream",
     "text": [
      "1197616.0\n"
     ]
    }
   ],
   "source": [
    "followUp = df_clean['followUp'].sum() \n",
    "print(followUp)"
   ]
  },
  {
   "cell_type": "markdown",
   "metadata": {},
   "source": [
    "##### e. - What is the total Covid-19 deaths?"
   ]
  },
  {
   "cell_type": "code",
   "execution_count": 30,
   "metadata": {},
   "outputs": [
    {
     "name": "stdout",
     "output_type": "stream",
     "text": [
      "290314\n"
     ]
    }
   ],
   "source": [
    "totalDeaths = df_clean_notnull['totalDeaths'].sum()\n",
    "print(totalDeaths)"
   ]
  },
  {
   "cell_type": "markdown",
   "metadata": {},
   "source": [
    "##### f. - What is the total new deaths?\n",
    "\n",
    "Total new deaths on 2021-03-19 (last 24 hours)."
   ]
  },
  {
   "cell_type": "code",
   "execution_count": 31,
   "metadata": {},
   "outputs": [
    {
     "name": "stdout",
     "output_type": "stream",
     "text": [
      "2815\n"
     ]
    }
   ],
   "source": [
    "newDeaths = df_clean_notnull['newdeaths'].sum() \n",
    "print(newDeaths)"
   ]
  },
  {
   "cell_type": "markdown",
   "metadata": {},
   "source": [
    "##### Population\n",
    "\n",
    "The total data of the population of Brazil is available at [datasus.saude.gov/populacao-residente](https://datasus.saude.gov.br/populacao-residente/) or you can also find it on the [IBGE website](https://www.ibge.gov.br/). I will use the value 210.147.125 as the total population of Brazil in the following analyzes."
   ]
  },
  {
   "cell_type": "code",
   "execution_count": 32,
   "metadata": {},
   "outputs": [],
   "source": [
    "populationBrazil = 210147125"
   ]
  },
  {
   "cell_type": "markdown",
   "metadata": {},
   "source": [
    "##### g. - What is the Incidence Coefficient of Covid-19?\n",
    "\n",
    "Incidence Coefficient \n",
    "\n",
    "Total infected per 100.000 inhabitants"
   ]
  },
  {
   "cell_type": "code",
   "execution_count": 33,
   "metadata": {},
   "outputs": [
    {
     "name": "stdout",
     "output_type": "stream",
     "text": [
      "5649.085134997683\n"
     ]
    }
   ],
   "source": [
    "incidenceCoefficient =  (totalInfected* 100000)/ populationBrazil\n",
    "print(incidenceCoefficient)"
   ]
  },
  {
   "cell_type": "markdown",
   "metadata": {},
   "source": [
    "##### h. - What is the Mortality Coefficient for Covid-19?\n",
    "\n",
    "Mortality Rate\n",
    "\n",
    "Total deaths by covid, per 100.000 inhabitants, in the population residing in a geographic space, in the year considered."
   ]
  },
  {
   "cell_type": "code",
   "execution_count": 34,
   "metadata": {},
   "outputs": [
    {
     "name": "stdout",
     "output_type": "stream",
     "text": [
      "138.14797609056038\n"
     ]
    }
   ],
   "source": [
    "mortalityRate = (totalDeaths * 100000) / populationBrazil\n",
    "print(mortalityRate)"
   ]
  },
  {
   "cell_type": "markdown",
   "metadata": {},
   "source": [
    "##### i. - What is the Covid-19 Lethality Rate?\n",
    "\n",
    "Lethality Rate \n",
    "\n",
    "Total deaths by covid-19 in the population residing in a geographic space."
   ]
  },
  {
   "cell_type": "code",
   "execution_count": 35,
   "metadata": {},
   "outputs": [
    {
     "name": "stdout",
     "output_type": "stream",
     "text": [
      "2.445492903526883\n"
     ]
    }
   ],
   "source": [
    "lethalityRate =  (totalDeaths * 100)/ totalInfected\n",
    "print(lethalityRate)"
   ]
  },
  {
   "cell_type": "markdown",
   "metadata": {},
   "source": [
    "##### j. - Which region(zone) has the highest Covid-19 Cases?\n",
    "\n",
    "Bar graph - regions with most coronavirus cases"
   ]
  },
  {
   "cell_type": "code",
   "execution_count": 36,
   "metadata": {},
   "outputs": [
    {
     "data": {
      "image/png": "[encoded data removed]",
      "text/plain": [
       "<Figure size 432x288 with 1 Axes>"
      ]
     },
     "metadata": {},
     "output_type": "display_data"
    }
   ],
   "source": [
    "df_clean_notnull.groupby([\"region\"]).sum()[\"totalInfected\"].plot(kind=\"bar\", title=\"Cumulative cases on 2021-03-19 by region\")\n",
    "plt.ylabel('Total coronavirus cases');"
   ]
  },
  {
   "cell_type": "code",
   "execution_count": 37,
   "metadata": {},
   "outputs": [
    {
     "data": {
      "text/plain": [
       "region\n",
       "Sudeste         4267653\n",
       "Nordeste        2741080\n",
       "Sul             2326878\n",
       "Norte           1277936\n",
       "Centro-Oeste    1257843\n",
       "Name: totalInfected, dtype: int64"
      ]
     },
     "execution_count": 37,
     "metadata": {},
     "output_type": "execute_result"
    }
   ],
   "source": [
    "regionMostCases = df_clean_notnull.groupby('region')['totalInfected'].sum().sort_values(ascending=False)\n",
    "regionMostCases.head(5)"
   ]
  },
  {
   "cell_type": "markdown",
   "metadata": {},
   "source": [
    "##### k. - Which states have the highest number of covid cases?\n",
    "\n",
    "Bar graph - states with most coronavirus cases"
   ]
  },
  {
   "cell_type": "code",
   "execution_count": 38,
   "metadata": {},
   "outputs": [
    {
     "data": {
      "text/plain": [
       "Text(0.5,0,'Total coronavirus cases')"
      ]
     },
     "execution_count": 38,
     "metadata": {},
     "output_type": "execute_result"
    },
    {
     "data": {
      "image/png": "[encoded data removed]",
      "text/plain": [
       "<Figure size 432x288 with 1 Axes>"
      ]
     },
     "metadata": {},
     "output_type": "display_data"
    }
   ],
   "source": [
    "plotinfectedstate = df_clean_notnull.groupby('state')['totalInfected'].sum().sort_values().tail(5)\n",
    "plotinfectedstate.plot(kind='barh')\n",
    "plt.title(\"Cumulative cases on 2021-03-19 by state\")\n",
    "plt.ylabel(\"States\")\n",
    "plt.xlabel(\"Total coronavirus cases\")"
   ]
  },
  {
   "cell_type": "code",
   "execution_count": 39,
   "metadata": {},
   "outputs": [
    {
     "data": {
      "text/plain": [
       "state\n",
       "SP    2280033\n",
       "MG    1014079\n",
       "PR     789685\n",
       "RS     780186\n",
       "BA     762616\n",
       "Name: totalInfected, dtype: int64"
      ]
     },
     "execution_count": 39,
     "metadata": {},
     "output_type": "execute_result"
    }
   ],
   "source": [
    "statesMostCases = df_clean_notnull.groupby('state')['totalInfected'].sum().sort_values(ascending=False)\n",
    "statesMostCases.head(5)"
   ]
  },
  {
   "cell_type": "markdown",
   "metadata": {},
   "source": [
    "##### l. - Which cities have the highest number of covid cases?\n",
    "\n",
    "Bar graph - cities with most coronavirus cases"
   ]
  },
  {
   "cell_type": "code",
   "execution_count": 40,
   "metadata": {},
   "outputs": [
    {
     "data": {
      "text/plain": [
       "Text(0.5,0,'Total coronavirus cases')"
      ]
     },
     "execution_count": 40,
     "metadata": {},
     "output_type": "execute_result"
    },
    {
     "data": {
      "image/png": "[encoded data removed]",
      "text/plain": [
       "<Figure size 432x288 with 1 Axes>"
      ]
     },
     "metadata": {},
     "output_type": "display_data"
    }
   ],
   "source": [
    "plotinfectedcity = df_clean_notnull.groupby('city')['totalInfected'].sum().sort_values().tail(5)\n",
    "plotinfectedcity.plot(kind='barh')\n",
    "plt.title(\"Cumulative cases on 2021-03-19 by city\")\n",
    "plt.ylabel(\"Cities\")\n",
    "plt.xlabel(\"Total coronavirus cases\")"
   ]
  },
  {
   "cell_type": "code",
   "execution_count": 41,
   "metadata": {},
   "outputs": [
    {
     "data": {
      "text/plain": [
       "city\n",
       "São Paulo         575331\n",
       "Brasília          326083\n",
       "Rio de Janeiro    217222\n",
       "Salvador          165794\n",
       "Manaus            155382\n",
       "Name: totalInfected, dtype: int64"
      ]
     },
     "execution_count": 41,
     "metadata": {},
     "output_type": "execute_result"
    }
   ],
   "source": [
    "citiesMostCases = df_clean_notnull.groupby('city')['totalInfected'].sum().sort_values(ascending=False)\n",
    "citiesMostCases.head(5)"
   ]
  },
  {
   "cell_type": "markdown",
   "metadata": {},
   "source": [
    "##### m. - Which region(zone) has the highest Covid-19 deaths?\n",
    "\n",
    "Bar graph - region(zone) with most coronavirus deaths"
   ]
  },
  {
   "cell_type": "code",
   "execution_count": 42,
   "metadata": {},
   "outputs": [
    {
     "data": {
      "image/png": "[encoded data removed]",
      "text/plain": [
       "<Figure size 432x288 with 1 Axes>"
      ]
     },
     "metadata": {},
     "output_type": "display_data"
    }
   ],
   "source": [
    "df_clean_notnull.groupby([\"region\"]).sum()[\"totalDeaths\"].plot(kind=\"bar\", color='red', title=\"Cumulative Deaths on 2021-03-19 by Country Zone \")\n",
    "plt.ylabel('Total coronavirus deaths');"
   ]
  },
  {
   "cell_type": "code",
   "execution_count": 43,
   "metadata": {},
   "outputs": [
    {
     "data": {
      "text/plain": [
       "region\n",
       "Sudeste         130050\n",
       "Nordeste         63408\n",
       "Sul              40546\n",
       "Norte            30447\n",
       "Centro-Oeste     25863\n",
       "Name: totalDeaths, dtype: int64"
      ]
     },
     "execution_count": 43,
     "metadata": {},
     "output_type": "execute_result"
    }
   ],
   "source": [
    "regionMostDeaths = df_clean_notnull.groupby('region')['totalDeaths'].sum().sort_values(ascending=False)\n",
    "regionMostDeaths.head(5)"
   ]
  },
  {
   "cell_type": "markdown",
   "metadata": {},
   "source": [
    "##### n. - Which states have the highest number of covid deaths?"
   ]
  },
  {
   "cell_type": "markdown",
   "metadata": {},
   "source": [
    "Bar graph - states with most coronavirus deaths"
   ]
  },
  {
   "cell_type": "code",
   "execution_count": 44,
   "metadata": {},
   "outputs": [
    {
     "data": {
      "text/plain": [
       "Text(0.5,0,'Total coronavirus deaths')"
      ]
     },
     "execution_count": 44,
     "metadata": {},
     "output_type": "execute_result"
    },
    {
     "data": {
      "image/png": "[encoded data removed]",
      "text/plain": [
       "<Figure size 576x288 with 1 Axes>"
      ]
     },
     "metadata": {},
     "output_type": "display_data"
    }
   ],
   "source": [
    "plotstatedeaths = df_clean_notnull.groupby('state')['totalDeaths'].sum().sort_values().tail(5)\n",
    "plotstatedeaths.plot(kind='barh', figsize=(8, 4), color='red', zorder=2, width=0.8, title=\"Total coronavirus death by state\")\n",
    "plt.title(\"Cumulative coronavirus deaths on 2021-03-19 by state\")\n",
    "plt.ylabel(\"States\")\n",
    "plt.xlabel(\"Total coronavirus deaths\")"
   ]
  },
  {
   "cell_type": "markdown",
   "metadata": {},
   "source": [
    "##### State São Paulo leads with 66.798 total deaths, followed by Rio de Janeiro with approximately half the value of the state of São Paulo (34.830), and Minas Gerais with 21.540."
   ]
  },
  {
   "cell_type": "code",
   "execution_count": 45,
   "metadata": {},
   "outputs": [
    {
     "data": {
      "text/plain": [
       "state\n",
       "SP    66798\n",
       "RJ    34830\n",
       "MG    21540\n",
       "RS    16507\n",
       "PR    14658\n",
       "BA    13885\n",
       "CE    12750\n",
       "AM    11743\n",
       "PE    11614\n",
       "GO    10190\n",
       "Name: totalDeaths, dtype: int64"
      ]
     },
     "execution_count": 45,
     "metadata": {},
     "output_type": "execute_result"
    }
   ],
   "source": [
    "statesMostDeaths = df_clean_notnull.groupby('state')['totalDeaths'].sum().sort_values(ascending=False)\n",
    "statesMostDeaths.head(10)"
   ]
  },
  {
   "cell_type": "markdown",
   "metadata": {},
   "source": [
    "##### o. - Which cities have the highest number of covid deaths?\n",
    "\n",
    "Bar graph - cities with most coronavirus deaths"
   ]
  },
  {
   "cell_type": "code",
   "execution_count": 46,
   "metadata": {},
   "outputs": [
    {
     "data": {
      "text/plain": [
       "Text(0.5,0,'Total coronavirus deaths')"
      ]
     },
     "execution_count": 46,
     "metadata": {},
     "output_type": "execute_result"
    },
    {
     "data": {
      "image/png": "[encoded data removed]",
      "text/plain": [
       "<Figure size 576x288 with 1 Axes>"
      ]
     },
     "metadata": {},
     "output_type": "display_data"
    }
   ],
   "source": [
    "plotcitydeaths = df_clean_notnull.groupby('city')['totalDeaths'].sum().sort_values().tail(5)\n",
    "plotcitydeaths.plot(kind='barh', figsize=(8, 4), color='red', zorder=2, width=0.8, title=\"Total coronavirus death by city\")\n",
    "plt.title(\"Cumulative coronavirus deaths on 2021-03-19 by city\")\n",
    "plt.ylabel(\"Cities\")\n",
    "plt.xlabel(\"Total coronavirus deaths\")"
   ]
  },
  {
   "cell_type": "markdown",
   "metadata": {},
   "source": [
    "##### City São Paulo leads in the total of deaths, followed by the city Rio de Janeiro, and Manaus with approximately half of the value of São Paulo."
   ]
  },
  {
   "cell_type": "code",
   "execution_count": 47,
   "metadata": {},
   "outputs": [
    {
     "data": {
      "text/plain": [
       "city\n",
       "São Paulo         20236\n",
       "Rio de Janeiro    19660\n",
       "Manaus             8298\n",
       "Fortaleza          5491\n",
       "Brasília           5321\n",
       "Salvador           4472\n",
       "Recife             3233\n",
       "Goiânia            3193\n",
       "Belém              3160\n",
       "Porto Alegre       3024\n",
       "Name: totalDeaths, dtype: int64"
      ]
     },
     "execution_count": 47,
     "metadata": {},
     "output_type": "execute_result"
    }
   ],
   "source": [
    "citiesMostDeaths = df_clean_notnull.groupby('city')['totalDeaths'].sum().sort_values(ascending=False)\n",
    "citiesMostDeaths.head(10)"
   ]
  },
  {
   "cell_type": "markdown",
   "metadata": {},
   "source": [
    "### 4. Conclusions"
   ]
  },
  {
   "cell_type": "markdown",
   "metadata": {},
   "source": [
    "About this project, we examined data from covid-19 in Brazil to understand how the disease is in the country, the number of deaths by region.\n",
    "\n",
    "Some useful insights have been found:\n",
    "\n",
    "- Total coronavirus (COVID-19) cases in Brazil on 2021-03-19: 11.871.390\n",
    "- Total recovered: 10.383.460\n",
    "- Total cumulative deaths in Brazil on 2021-03-19: 290.314\n",
    "- Total new deaths in the last 24 hours in Brazil: 2.815\n",
    "- The region with the highest number of cases: Sudeste with 4.267.653 cases. \n",
    "- The region with the highest number of deaths: Sudeste with 130.050 deaths.\n",
    "- The state with the highest number of cases: SP (São Paulo) with 2.280.033 cases.\n",
    "- The state with the highest number of deaths: SP (São Paulo) with 66.798 deaths.\n",
    "- The city with the highest number of cases: São Paulo with 575.331 cases.\n",
    "- The city with the highest number of deaths: São Paulo with 20.236 deaths.\n",
    "\n",
    "With these conclusions we can make decisions. With these decisions, we can take actions to try to solve the problem, or reduce the negative effects. We can know which region or state to prioritize, to reduce deaths.\n",
    "\n",
    "In this project, none of our questions really involve machine learning or predictive models of any kind. In our analysis we used python and powerful libraries like pandas, they were enough to verify a lot of information about the collected data. In another future project, we can go deeper into our analysis. And discover more useful information that can help the government make better decisions to help more people."
   ]
  }
 ],
 "metadata": {
  "kernelspec": {
   "display_name": "Python 3",
   "language": "python",
   "name": "python3"
  },
  "language_info": {
   "codemirror_mode": {
    "name": "ipython",
    "version": 3
   },
   "file_extension": ".py",
   "mimetype": "text/x-python",
   "name": "python",
   "nbconvert_exporter": "python",
   "pygments_lexer": "ipython3",
   "version": "3.6.5"
  }
 },
 "nbformat": 4,
 "nbformat_minor": 2
}
