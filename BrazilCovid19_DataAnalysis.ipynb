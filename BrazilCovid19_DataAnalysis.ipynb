{
 "cells": [
  {
   "cell_type": "markdown",
   "metadata": {},
   "source": [
    "# Brazil Covid-19 Data Analysis"
   ]
  },
  {
   "cell_type": "markdown",
   "metadata": {},
   "source": [
    "#### Author: Romullo Ferreira"
   ]
  },
  {
   "cell_type": "markdown",
   "metadata": {},
   "source": [
    "The aim of this project is to analyze Covid-19 (Brazil) data, which includes the following steps:\n",
    "\n",
    "1. Defining the list of questions to be answered with data analysis.\n",
    "2. Data wrangling \n",
    "    - 2.1. Gather\n",
    "    - 2.2. Assess\n",
    "    - 2.3. Clean\n",
    "3. Data exploration and effective communication of the exploratory steps.\n",
    "4. Conclusions."
   ]
  },
  {
   "cell_type": "markdown",
   "metadata": {},
   "source": [
    "Useful facts about the data:\n",
    "- epidemiological situation of COVID-19 in Brazil\n",
    "- The data update process is carried out daily by the Ministry of Health through official information provided by the State Health Secretariats of the 27 Brazilian Federative Units\n",
    "- 27 states of Brazil\n",
    "- 5 regions of brazil (Central-West, North, Northeast, South and Southeast)\n",
    "- Data were collected from 2021-03-09 to 2021-03-19\n",
    "- Data Source: State Health Secretariats. Brazil, 2020\n",
    "- Detailed data can be downloaded from [OpenDataSUS](https://opendatasus.saude.gov.br/)\n",
    "- You can also access the [Brazilian Open Data Portal](https://dados.gov.br/dataset) to find more coronavirus data"
   ]
  },
  {
   "cell_type": "markdown",
   "metadata": {},
   "source": [
    "## 1. Defining the list of questions to be answered with data analysis\n",
    "\n",
    "We have a lot of things to ask. The dataset has a lot of information, but for the analysis not to be too long I decided to ask some questions that I thought were important as a start. But after taking a look at my analysis feel free to ask other questions and analyze.\n",
    "\n",
    "It is important to remember that All questions below refer to Covid-19 data from Brazil:\n",
    "\n",
    "- a. - What is the total accumulated cases?\n",
    "- b. - What is the total new cases?\n",
    "- c. - What is the total recovered cases?\n",
    "- d. - What is the total followup cases?\n",
    "- e. - What is the total Covid-19 deaths?\n",
    "- f. - What is the total new deaths?\n",
    "- g. - What is the Incidence Coefficient of Covid-19?\n",
    "- h. - What is the Mortality Coefficient for Covid-19?\n",
    "- i. - What is the Covid-19 Lethality Rate?\n",
    "- j. - Which region(zone) has the highest Covid-19 Cases?\n",
    "- k. - Which states have the highest number of covid cases?\n",
    "- l. - Which cities have the highest number of covid cases?\n",
    "- m. - Which region(zone) has the highest Covid-19 deaths?\n",
    "- n. - Which states have the highest number of covid deaths?\n",
    "- o. - Which cities have the highest number of covid deaths?"
   ]
  },
  {
   "cell_type": "markdown",
   "metadata": {},
   "source": [
    "## 2. Data wrangling"
   ]
  },
  {
   "cell_type": "markdown",
   "metadata": {},
   "source": [
    "## 2.1. Gather"
   ]
  },
  {
   "cell_type": "markdown",
   "metadata": {},
   "source": [
    "Firstly, let's import all the libraries necessary for this project"
   ]
  },
  {
   "cell_type": "code",
   "execution_count": 4,
   "metadata": {},
   "outputs": [],
   "source": [
    "import pandas as pd\n",
    "import numpy as np\n",
    "\n",
    "import matplotlib.pyplot as plt\n",
    "import seaborn as sns\n",
    "%matplotlib inline"
   ]
  },
  {
   "cell_type": "markdown",
   "metadata": {},
   "source": [
    "Import CSV File"
   ]
  },
  {
   "cell_type": "code",
   "execution_count": 5,
   "metadata": {},
   "outputs": [],
   "source": [
    "df_covid19br = pd.read_csv('COVIDBR.csv', sep=';')"
   ]
  },
  {
   "cell_type": "markdown",
   "metadata": {},
   "source": [
    "## 2.2. Assess"
   ]
  },
  {
   "cell_type": "markdown",
   "metadata": {},
   "source": [
    "Let's take a look at the dataframe"
   ]
  },
  {
   "cell_type": "code",
   "execution_count": 6,
   "metadata": {},
   "outputs": [
    {
     "data": {
      "text/html": [
       "<div>\n",
       "<style scoped>\n",
       "    .dataframe tbody tr th:only-of-type {\n",
       "        vertical-align: middle;\n",
       "    }\n",
       "\n",
       "    .dataframe tbody tr th {\n",
       "        vertical-align: top;\n",
       "    }\n",
       "\n",
       "    .dataframe thead th {\n",
       "        text-align: right;\n",
       "    }\n",
       "</style>\n",
       "<table border=\"1\" class=\"dataframe\">\n",
       "  <thead>\n",
       "    <tr style=\"text-align: right;\">\n",
       "      <th></th>\n",
       "      <th>regiao</th>\n",
       "      <th>estado</th>\n",
       "      <th>municipio</th>\n",
       "      <th>coduf</th>\n",
       "      <th>codmun</th>\n",
       "      <th>codRegiaoSaude</th>\n",
       "      <th>nomeRegiaoSaude</th>\n",
       "      <th>data</th>\n",
       "      <th>semanaEpi</th>\n",
       "      <th>populacaoTCU2019</th>\n",
       "      <th>casosAcumulado</th>\n",
       "      <th>casosNovos</th>\n",
       "      <th>obitosAcumulado</th>\n",
       "      <th>obitosNovos</th>\n",
       "      <th>Recuperadosnovos</th>\n",
       "      <th>emAcompanhamentoNovos</th>\n",
       "      <th>interior/metropolitana</th>\n",
       "    </tr>\n",
       "  </thead>\n",
       "  <tbody>\n",
       "    <tr>\n",
       "      <th>836923</th>\n",
       "      <td>Sudeste</td>\n",
       "      <td>MG</td>\n",
       "      <td>Astolfo Dutra</td>\n",
       "      <td>31</td>\n",
       "      <td>310460.0</td>\n",
       "      <td>31044.0</td>\n",
       "      <td>LEOPOLDINA / CATAGUASES</td>\n",
       "      <td>2020-07-28</td>\n",
       "      <td>31</td>\n",
       "      <td>14179.0</td>\n",
       "      <td>60</td>\n",
       "      <td>0</td>\n",
       "      <td>2</td>\n",
       "      <td>0</td>\n",
       "      <td>NaN</td>\n",
       "      <td>NaN</td>\n",
       "      <td>0.0</td>\n",
       "    </tr>\n",
       "    <tr>\n",
       "      <th>257850</th>\n",
       "      <td>Nordeste</td>\n",
       "      <td>PI</td>\n",
       "      <td>Baixa Grande do Ribeiro</td>\n",
       "      <td>22</td>\n",
       "      <td>220115.0</td>\n",
       "      <td>22007.0</td>\n",
       "      <td>TABULEIROS DO ALTO PARNAIBA</td>\n",
       "      <td>2021-01-15</td>\n",
       "      <td>2</td>\n",
       "      <td>11586.0</td>\n",
       "      <td>1571</td>\n",
       "      <td>0</td>\n",
       "      <td>15</td>\n",
       "      <td>0</td>\n",
       "      <td>NaN</td>\n",
       "      <td>NaN</td>\n",
       "      <td>0.0</td>\n",
       "    </tr>\n",
       "    <tr>\n",
       "      <th>45390</th>\n",
       "      <td>Norte</td>\n",
       "      <td>AM</td>\n",
       "      <td>Eirunepé</td>\n",
       "      <td>13</td>\n",
       "      <td>130140.0</td>\n",
       "      <td>13007.0</td>\n",
       "      <td>REGIONAL JURUA</td>\n",
       "      <td>2020-08-02</td>\n",
       "      <td>32</td>\n",
       "      <td>35273.0</td>\n",
       "      <td>1327</td>\n",
       "      <td>0</td>\n",
       "      <td>4</td>\n",
       "      <td>0</td>\n",
       "      <td>NaN</td>\n",
       "      <td>NaN</td>\n",
       "      <td>0.0</td>\n",
       "    </tr>\n",
       "    <tr>\n",
       "      <th>1203511</th>\n",
       "      <td>Sudeste</td>\n",
       "      <td>SP</td>\n",
       "      <td>Auriflama</td>\n",
       "      <td>35</td>\n",
       "      <td>350420.0</td>\n",
       "      <td>35021.0</td>\n",
       "      <td>CENTRAL DO DRS II</td>\n",
       "      <td>2020-07-24</td>\n",
       "      <td>30</td>\n",
       "      <td>15189.0</td>\n",
       "      <td>144</td>\n",
       "      <td>11</td>\n",
       "      <td>6</td>\n",
       "      <td>0</td>\n",
       "      <td>NaN</td>\n",
       "      <td>NaN</td>\n",
       "      <td>0.0</td>\n",
       "    </tr>\n",
       "  </tbody>\n",
       "</table>\n",
       "</div>"
      ],
      "text/plain": [
       "           regiao estado                municipio  coduf    codmun  \\\n",
       "836923    Sudeste     MG            Astolfo Dutra     31  310460.0   \n",
       "257850   Nordeste     PI  Baixa Grande do Ribeiro     22  220115.0   \n",
       "45390       Norte     AM                 Eirunepé     13  130140.0   \n",
       "1203511   Sudeste     SP                Auriflama     35  350420.0   \n",
       "\n",
       "         codRegiaoSaude              nomeRegiaoSaude        data  semanaEpi  \\\n",
       "836923          31044.0      LEOPOLDINA / CATAGUASES  2020-07-28         31   \n",
       "257850          22007.0  TABULEIROS DO ALTO PARNAIBA  2021-01-15          2   \n",
       "45390           13007.0               REGIONAL JURUA  2020-08-02         32   \n",
       "1203511         35021.0            CENTRAL DO DRS II  2020-07-24         30   \n",
       "\n",
       "         populacaoTCU2019  casosAcumulado  casosNovos  obitosAcumulado  \\\n",
       "836923            14179.0              60           0                2   \n",
       "257850            11586.0            1571           0               15   \n",
       "45390             35273.0            1327           0                4   \n",
       "1203511           15189.0             144          11                6   \n",
       "\n",
       "         obitosNovos  Recuperadosnovos  emAcompanhamentoNovos  \\\n",
       "836923             0               NaN                    NaN   \n",
       "257850             0               NaN                    NaN   \n",
       "45390              0               NaN                    NaN   \n",
       "1203511            0               NaN                    NaN   \n",
       "\n",
       "         interior/metropolitana  \n",
       "836923                      0.0  \n",
       "257850                      0.0  \n",
       "45390                       0.0  \n",
       "1203511                     0.0  "
      ]
     },
     "execution_count": 6,
     "metadata": {},
     "output_type": "execute_result"
    }
   ],
   "source": [
    "df_covid19br.sample(4)"
   ]
  },
  {
   "cell_type": "markdown",
   "metadata": {},
   "source": [
    "We can already see that there are missing values in the columns estado, municipio, codmun and other columns for example."
   ]
  },
  {
   "cell_type": "markdown",
   "metadata": {},
   "source": [
    "Here we can see the size of original dataset, 2.012.472 rows e 17 columns."
   ]
  },
  {
   "cell_type": "code",
   "execution_count": 7,
   "metadata": {},
   "outputs": [
    {
     "data": {
      "text/plain": [
       "(2012472, 17)"
      ]
     },
     "execution_count": 7,
     "metadata": {},
     "output_type": "execute_result"
    }
   ],
   "source": [
    "df_covid19br.shape"
   ]
  },
  {
   "cell_type": "markdown",
   "metadata": {},
   "source": [
    "Let's count the unique values"
   ]
  },
  {
   "cell_type": "code",
   "execution_count": 8,
   "metadata": {},
   "outputs": [
    {
     "data": {
      "text/plain": [
       "regiao                        6\n",
       "estado                       27\n",
       "municipio                  5297\n",
       "coduf                        28\n",
       "codmun                     5591\n",
       "codRegiaoSaude              450\n",
       "nomeRegiaoSaude             440\n",
       "data                        389\n",
       "semanaEpi                    53\n",
       "populacaoTCU2019           5104\n",
       "casosAcumulado            33078\n",
       "casosNovos                 3779\n",
       "obitosAcumulado            7273\n",
       "obitosNovos                 641\n",
       "Recuperadosnovos            336\n",
       "emAcompanhamentoNovos       336\n",
       "interior/metropolitana        2\n",
       "dtype: int64"
      ]
     },
     "execution_count": 8,
     "metadata": {},
     "output_type": "execute_result"
    }
   ],
   "source": [
    "df_covid19br.nunique()"
   ]
  },
  {
   "cell_type": "markdown",
   "metadata": {},
   "source": [
    "##### Let's create a copy of the original dataframe. And create another dataframe (filtered_df) with just today's date data, which is where I'm going to focus my analysis."
   ]
  },
  {
   "cell_type": "code",
   "execution_count": 9,
   "metadata": {
    "scrolled": true
   },
   "outputs": [
    {
     "data": {
      "text/html": [
       "<div>\n",
       "<style scoped>\n",
       "    .dataframe tbody tr th:only-of-type {\n",
       "        vertical-align: middle;\n",
       "    }\n",
       "\n",
       "    .dataframe tbody tr th {\n",
       "        vertical-align: top;\n",
       "    }\n",
       "\n",
       "    .dataframe thead th {\n",
       "        text-align: right;\n",
       "    }\n",
       "</style>\n",
       "<table border=\"1\" class=\"dataframe\">\n",
       "  <thead>\n",
       "    <tr style=\"text-align: right;\">\n",
       "      <th></th>\n",
       "      <th>regiao</th>\n",
       "      <th>estado</th>\n",
       "      <th>municipio</th>\n",
       "      <th>coduf</th>\n",
       "      <th>codmun</th>\n",
       "      <th>codRegiaoSaude</th>\n",
       "      <th>nomeRegiaoSaude</th>\n",
       "      <th>data</th>\n",
       "      <th>semanaEpi</th>\n",
       "      <th>populacaoTCU2019</th>\n",
       "      <th>casosAcumulado</th>\n",
       "      <th>casosNovos</th>\n",
       "      <th>obitosAcumulado</th>\n",
       "      <th>obitosNovos</th>\n",
       "      <th>Recuperadosnovos</th>\n",
       "      <th>emAcompanhamentoNovos</th>\n",
       "      <th>interior/metropolitana</th>\n",
       "    </tr>\n",
       "  </thead>\n",
       "  <tbody>\n",
       "    <tr>\n",
       "      <th>410779</th>\n",
       "      <td>Nordeste</td>\n",
       "      <td>RN</td>\n",
       "      <td>Doutor Severiano</td>\n",
       "      <td>24</td>\n",
       "      <td>240320.0</td>\n",
       "      <td>24006.0</td>\n",
       "      <td>6ª REGIAO DE SAUDE - PAU DOS FERROS</td>\n",
       "      <td>2021-03-19</td>\n",
       "      <td>11</td>\n",
       "      <td>7076.0</td>\n",
       "      <td>450</td>\n",
       "      <td>-10</td>\n",
       "      <td>12</td>\n",
       "      <td>0</td>\n",
       "      <td>NaN</td>\n",
       "      <td>NaN</td>\n",
       "      <td>0.0</td>\n",
       "    </tr>\n",
       "    <tr>\n",
       "      <th>137267</th>\n",
       "      <td>Norte</td>\n",
       "      <td>TO</td>\n",
       "      <td>Combinado</td>\n",
       "      <td>17</td>\n",
       "      <td>170555.0</td>\n",
       "      <td>17003.0</td>\n",
       "      <td>SUDESTE</td>\n",
       "      <td>2021-03-19</td>\n",
       "      <td>11</td>\n",
       "      <td>4852.0</td>\n",
       "      <td>331</td>\n",
       "      <td>2</td>\n",
       "      <td>4</td>\n",
       "      <td>0</td>\n",
       "      <td>NaN</td>\n",
       "      <td>NaN</td>\n",
       "      <td>0.0</td>\n",
       "    </tr>\n",
       "    <tr>\n",
       "      <th>1251721</th>\n",
       "      <td>Sudeste</td>\n",
       "      <td>SP</td>\n",
       "      <td>Floreal</td>\n",
       "      <td>35</td>\n",
       "      <td>351590.0</td>\n",
       "      <td>35157.0</td>\n",
       "      <td>VOTUPORANGA</td>\n",
       "      <td>2021-03-19</td>\n",
       "      <td>11</td>\n",
       "      <td>2917.0</td>\n",
       "      <td>92</td>\n",
       "      <td>1</td>\n",
       "      <td>2</td>\n",
       "      <td>0</td>\n",
       "      <td>NaN</td>\n",
       "      <td>NaN</td>\n",
       "      <td>0.0</td>\n",
       "    </tr>\n",
       "  </tbody>\n",
       "</table>\n",
       "</div>"
      ],
      "text/plain": [
       "           regiao estado         municipio  coduf    codmun  codRegiaoSaude  \\\n",
       "410779   Nordeste     RN  Doutor Severiano     24  240320.0         24006.0   \n",
       "137267      Norte     TO         Combinado     17  170555.0         17003.0   \n",
       "1251721   Sudeste     SP           Floreal     35  351590.0         35157.0   \n",
       "\n",
       "                             nomeRegiaoSaude        data  semanaEpi  \\\n",
       "410779   6ª REGIAO DE SAUDE - PAU DOS FERROS  2021-03-19         11   \n",
       "137267                               SUDESTE  2021-03-19         11   \n",
       "1251721                          VOTUPORANGA  2021-03-19         11   \n",
       "\n",
       "         populacaoTCU2019  casosAcumulado  casosNovos  obitosAcumulado  \\\n",
       "410779             7076.0             450         -10               12   \n",
       "137267             4852.0             331           2                4   \n",
       "1251721            2917.0              92           1                2   \n",
       "\n",
       "         obitosNovos  Recuperadosnovos  emAcompanhamentoNovos  \\\n",
       "410779             0               NaN                    NaN   \n",
       "137267             0               NaN                    NaN   \n",
       "1251721            0               NaN                    NaN   \n",
       "\n",
       "         interior/metropolitana  \n",
       "410779                      0.0  \n",
       "137267                      0.0  \n",
       "1251721                     0.0  "
      ]
     },
     "execution_count": 9,
     "metadata": {},
     "output_type": "execute_result"
    }
   ],
   "source": [
    "filtered_df = df_covid19br.copy()\n",
    "filtered_df = filtered_df.query(\"data > '2021-03-18'\")\n",
    "filtered_df.sample(3)"
   ]
  },
  {
   "cell_type": "markdown",
   "metadata": {},
   "source": [
    "Dimensions of the dataframe. Here we can already see that our filtered dataframe is much smaller than the original file, with 5619 rows and 17 columns. "
   ]
  },
  {
   "cell_type": "code",
   "execution_count": 10,
   "metadata": {},
   "outputs": [
    {
     "data": {
      "text/plain": [
       "(5619, 17)"
      ]
     },
     "execution_count": 10,
     "metadata": {},
     "output_type": "execute_result"
    }
   ],
   "source": [
    "filtered_df.shape"
   ]
  },
  {
   "cell_type": "markdown",
   "metadata": {},
   "source": [
    "- Which columns have missing values? \n",
    "- Here we can already see that the \"munincipio\" column has only 5570 against 5619 of the original file. This means that we have 49 missing values. And the \"codmun\" column has only 5591 out of a total of 5619, this means that we have 28 missing values. Let's keep that information."
   ]
  },
  {
   "cell_type": "code",
   "execution_count": 11,
   "metadata": {
    "scrolled": true
   },
   "outputs": [
    {
     "name": "stdout",
     "output_type": "stream",
     "text": [
      "<class 'pandas.core.frame.DataFrame'>\n",
      "Int64Index: 5619 entries, 390 to 2012471\n",
      "Data columns (total 17 columns):\n",
      "regiao                    5619 non-null object\n",
      "estado                    5618 non-null object\n",
      "municipio                 5570 non-null object\n",
      "coduf                     5619 non-null int64\n",
      "codmun                    5591 non-null float64\n",
      "codRegiaoSaude            5570 non-null float64\n",
      "nomeRegiaoSaude           5570 non-null object\n",
      "data                      5619 non-null object\n",
      "semanaEpi                 5619 non-null int64\n",
      "populacaoTCU2019          5598 non-null float64\n",
      "casosAcumulado            5619 non-null int64\n",
      "casosNovos                5619 non-null int64\n",
      "obitosAcumulado           5619 non-null int64\n",
      "obitosNovos               5619 non-null int64\n",
      "Recuperadosnovos          1 non-null float64\n",
      "emAcompanhamentoNovos     1 non-null float64\n",
      "interior/metropolitana    5570 non-null float64\n",
      "dtypes: float64(6), int64(6), object(5)\n",
      "memory usage: 790.2+ KB\n"
     ]
    }
   ],
   "source": [
    "filtered_df.info()"
   ]
  },
  {
   "cell_type": "markdown",
   "metadata": {},
   "source": [
    "Another way to see missing values. Count of missing values."
   ]
  },
  {
   "cell_type": "code",
   "execution_count": 12,
   "metadata": {},
   "outputs": [
    {
     "data": {
      "text/plain": [
       "regiao                       0\n",
       "estado                       1\n",
       "municipio                   49\n",
       "coduf                        0\n",
       "codmun                      28\n",
       "codRegiaoSaude              49\n",
       "nomeRegiaoSaude             49\n",
       "data                         0\n",
       "semanaEpi                    0\n",
       "populacaoTCU2019            21\n",
       "casosAcumulado               0\n",
       "casosNovos                   0\n",
       "obitosAcumulado              0\n",
       "obitosNovos                  0\n",
       "Recuperadosnovos          5618\n",
       "emAcompanhamentoNovos     5618\n",
       "interior/metropolitana      49\n",
       "dtype: int64"
      ]
     },
     "execution_count": 12,
     "metadata": {},
     "output_type": "execute_result"
    }
   ],
   "source": [
    "filtered_df.isnull().sum()"
   ]
  },
  {
   "cell_type": "markdown",
   "metadata": {},
   "source": [
    "## 2.3. Clean"
   ]
  },
  {
   "cell_type": "markdown",
   "metadata": {},
   "source": [
    "Make copy of the filtered_df dataframe to clean"
   ]
  },
  {
   "cell_type": "code",
   "execution_count": 13,
   "metadata": {},
   "outputs": [],
   "source": [
    "df_clean = filtered_df.copy()"
   ]
  },
  {
   "cell_type": "markdown",
   "metadata": {},
   "source": [
    "### #Delete columns "
   ]
  },
  {
   "cell_type": "markdown",
   "metadata": {},
   "source": [
    "* The columns 'coduf ', ' codRegiaoSaude ', ' nomeRegiaoSaude ', 'populacaoTCU2019',  'semanaEpi ' and ' interior / metropolitana ' are not required, because I will not use it in my analysis until now."
   ]
  },
  {
   "cell_type": "markdown",
   "metadata": {},
   "source": [
    "#### Define"
   ]
  },
  {
   "cell_type": "markdown",
   "metadata": {},
   "source": [
    "* We will delete the columns 'coduf ', ' codRegiaoSaude ', ' nomeRegiaoSaude ', 'PopilacaoTCU2019', semanaEpi ' and ' interior / metropolitana ' "
   ]
  },
  {
   "cell_type": "markdown",
   "metadata": {},
   "source": [
    "#### Code"
   ]
  },
  {
   "cell_type": "code",
   "execution_count": 14,
   "metadata": {},
   "outputs": [],
   "source": [
    "colunas = ['coduf', 'codRegiaoSaude', 'nomeRegiaoSaude', 'populacaoTCU2019', 'semanaEpi', 'interior/metropolitana']\n",
    "df_clean.drop(columns = colunas, inplace = True)"
   ]
  },
  {
   "cell_type": "markdown",
   "metadata": {},
   "source": [
    "#### Test"
   ]
  },
  {
   "cell_type": "code",
   "execution_count": 15,
   "metadata": {},
   "outputs": [
    {
     "name": "stdout",
     "output_type": "stream",
     "text": [
      "<class 'pandas.core.frame.DataFrame'>\n",
      "Int64Index: 5619 entries, 390 to 2012471\n",
      "Data columns (total 11 columns):\n",
      "regiao                   5619 non-null object\n",
      "estado                   5618 non-null object\n",
      "municipio                5570 non-null object\n",
      "codmun                   5591 non-null float64\n",
      "data                     5619 non-null object\n",
      "casosAcumulado           5619 non-null int64\n",
      "casosNovos               5619 non-null int64\n",
      "obitosAcumulado          5619 non-null int64\n",
      "obitosNovos              5619 non-null int64\n",
      "Recuperadosnovos         1 non-null float64\n",
      "emAcompanhamentoNovos    1 non-null float64\n",
      "dtypes: float64(3), int64(4), object(4)\n",
      "memory usage: 526.8+ KB\n"
     ]
    }
   ],
   "source": [
    "df_clean.info()"
   ]
  },
  {
   "cell_type": "code",
   "execution_count": 16,
   "metadata": {},
   "outputs": [
    {
     "data": {
      "text/html": [
       "<div>\n",
       "<style scoped>\n",
       "    .dataframe tbody tr th:only-of-type {\n",
       "        vertical-align: middle;\n",
       "    }\n",
       "\n",
       "    .dataframe tbody tr th {\n",
       "        vertical-align: top;\n",
       "    }\n",
       "\n",
       "    .dataframe thead th {\n",
       "        text-align: right;\n",
       "    }\n",
       "</style>\n",
       "<table border=\"1\" class=\"dataframe\">\n",
       "  <thead>\n",
       "    <tr style=\"text-align: right;\">\n",
       "      <th></th>\n",
       "      <th>regiao</th>\n",
       "      <th>estado</th>\n",
       "      <th>municipio</th>\n",
       "      <th>codmun</th>\n",
       "      <th>data</th>\n",
       "      <th>casosAcumulado</th>\n",
       "      <th>casosNovos</th>\n",
       "      <th>obitosAcumulado</th>\n",
       "      <th>obitosNovos</th>\n",
       "      <th>Recuperadosnovos</th>\n",
       "      <th>emAcompanhamentoNovos</th>\n",
       "    </tr>\n",
       "  </thead>\n",
       "  <tbody>\n",
       "    <tr>\n",
       "      <th>653145</th>\n",
       "      <td>Nordeste</td>\n",
       "      <td>SE</td>\n",
       "      <td>Japaratuba</td>\n",
       "      <td>280330.0</td>\n",
       "      <td>2021-03-19</td>\n",
       "      <td>587</td>\n",
       "      <td>2</td>\n",
       "      <td>32</td>\n",
       "      <td>0</td>\n",
       "      <td>NaN</td>\n",
       "      <td>NaN</td>\n",
       "    </tr>\n",
       "    <tr>\n",
       "      <th>1855667</th>\n",
       "      <td>Centro-Oeste</td>\n",
       "      <td>MS</td>\n",
       "      <td>Douradina</td>\n",
       "      <td>500350.0</td>\n",
       "      <td>2021-03-19</td>\n",
       "      <td>330</td>\n",
       "      <td>0</td>\n",
       "      <td>4</td>\n",
       "      <td>0</td>\n",
       "      <td>NaN</td>\n",
       "      <td>NaN</td>\n",
       "    </tr>\n",
       "    <tr>\n",
       "      <th>171635</th>\n",
       "      <td>Norte</td>\n",
       "      <td>TO</td>\n",
       "      <td>Tocantinópolis</td>\n",
       "      <td>172120.0</td>\n",
       "      <td>2021-03-19</td>\n",
       "      <td>1708</td>\n",
       "      <td>11</td>\n",
       "      <td>29</td>\n",
       "      <td>0</td>\n",
       "      <td>NaN</td>\n",
       "      <td>NaN</td>\n",
       "    </tr>\n",
       "  </tbody>\n",
       "</table>\n",
       "</div>"
      ],
      "text/plain": [
       "               regiao estado       municipio    codmun        data  \\\n",
       "653145       Nordeste     SE      Japaratuba  280330.0  2021-03-19   \n",
       "1855667  Centro-Oeste     MS       Douradina  500350.0  2021-03-19   \n",
       "171635          Norte     TO  Tocantinópolis  172120.0  2021-03-19   \n",
       "\n",
       "         casosAcumulado  casosNovos  obitosAcumulado  obitosNovos  \\\n",
       "653145              587           2               32            0   \n",
       "1855667             330           0                4            0   \n",
       "171635             1708          11               29            0   \n",
       "\n",
       "         Recuperadosnovos  emAcompanhamentoNovos  \n",
       "653145                NaN                    NaN  \n",
       "1855667               NaN                    NaN  \n",
       "171635                NaN                    NaN  "
      ]
     },
     "execution_count": 16,
     "metadata": {},
     "output_type": "execute_result"
    }
   ],
   "source": [
    "df_clean.sample(3)"
   ]
  },
  {
   "cell_type": "code",
   "execution_count": 17,
   "metadata": {},
   "outputs": [
    {
     "data": {
      "text/plain": [
       "(5619, 11)"
      ]
     },
     "execution_count": 17,
     "metadata": {},
     "output_type": "execute_result"
    }
   ],
   "source": [
    "df_clean.shape"
   ]
  },
  {
   "cell_type": "markdown",
   "metadata": {},
   "source": [
    "### #Rename columns"
   ]
  },
  {
   "cell_type": "markdown",
   "metadata": {},
   "source": [
    "* I decided to rename the columns to be better for everyone who is going to analyze this file, and improve visualization."
   ]
  },
  {
   "cell_type": "markdown",
   "metadata": {},
   "source": [
    "#### Define"
   ]
  },
  {
   "cell_type": "markdown",
   "metadata": {},
   "source": [
    "* Let's rename the columns"
   ]
  },
  {
   "cell_type": "markdown",
   "metadata": {},
   "source": [
    "#### Code"
   ]
  },
  {
   "cell_type": "code",
   "execution_count": 18,
   "metadata": {},
   "outputs": [],
   "source": [
    "renamecolumns = {'regiao':'region', 'estado': 'state', 'municipio' : 'city', 'codmun': 'codcity', 'data': 'date', 'casosAcumulado': 'totalInfected', 'casosNovos': 'newInfected', 'obitosAcumulado': 'totalDeaths', 'obitosNovos': 'newdeaths', 'Recuperadosnovos': 'recovered', 'emAcompanhamentoNovos': 'followUp'}\n",
    "df_clean = df_clean.rename(columns = renamecolumns)"
   ]
  },
  {
   "cell_type": "markdown",
   "metadata": {},
   "source": [
    "#### Test"
   ]
  },
  {
   "cell_type": "code",
   "execution_count": 19,
   "metadata": {},
   "outputs": [
    {
     "data": {
      "text/html": [
       "<div>\n",
       "<style scoped>\n",
       "    .dataframe tbody tr th:only-of-type {\n",
       "        vertical-align: middle;\n",
       "    }\n",
       "\n",
       "    .dataframe tbody tr th {\n",
       "        vertical-align: top;\n",
       "    }\n",
       "\n",
       "    .dataframe thead th {\n",
       "        text-align: right;\n",
       "    }\n",
       "</style>\n",
       "<table border=\"1\" class=\"dataframe\">\n",
       "  <thead>\n",
       "    <tr style=\"text-align: right;\">\n",
       "      <th></th>\n",
       "      <th>region</th>\n",
       "      <th>state</th>\n",
       "      <th>city</th>\n",
       "      <th>codcity</th>\n",
       "      <th>date</th>\n",
       "      <th>totalInfected</th>\n",
       "      <th>newInfected</th>\n",
       "      <th>totalDeaths</th>\n",
       "      <th>newdeaths</th>\n",
       "      <th>recovered</th>\n",
       "      <th>followUp</th>\n",
       "    </tr>\n",
       "  </thead>\n",
       "  <tbody>\n",
       "    <tr>\n",
       "      <th>1095275</th>\n",
       "      <td>Sudeste</td>\n",
       "      <td>MG</td>\n",
       "      <td>Senador Amaral</td>\n",
       "      <td>316557.0</td>\n",
       "      <td>2021-03-19</td>\n",
       "      <td>265</td>\n",
       "      <td>0</td>\n",
       "      <td>5</td>\n",
       "      <td>0</td>\n",
       "      <td>NaN</td>\n",
       "      <td>NaN</td>\n",
       "    </tr>\n",
       "    <tr>\n",
       "      <th>1754711</th>\n",
       "      <td>Sul</td>\n",
       "      <td>RS</td>\n",
       "      <td>Mariana Pimentel</td>\n",
       "      <td>431198.0</td>\n",
       "      <td>2021-03-19</td>\n",
       "      <td>149</td>\n",
       "      <td>0</td>\n",
       "      <td>3</td>\n",
       "      <td>0</td>\n",
       "      <td>NaN</td>\n",
       "      <td>NaN</td>\n",
       "    </tr>\n",
       "    <tr>\n",
       "      <th>1542775</th>\n",
       "      <td>Sul</td>\n",
       "      <td>PR</td>\n",
       "      <td>São José dos Pinhais</td>\n",
       "      <td>412550.0</td>\n",
       "      <td>2021-03-19</td>\n",
       "      <td>16099</td>\n",
       "      <td>156</td>\n",
       "      <td>411</td>\n",
       "      <td>7</td>\n",
       "      <td>NaN</td>\n",
       "      <td>NaN</td>\n",
       "    </tr>\n",
       "  </tbody>\n",
       "</table>\n",
       "</div>"
      ],
      "text/plain": [
       "          region state                  city   codcity        date  \\\n",
       "1095275  Sudeste    MG        Senador Amaral  316557.0  2021-03-19   \n",
       "1754711      Sul    RS      Mariana Pimentel  431198.0  2021-03-19   \n",
       "1542775      Sul    PR  São José dos Pinhais  412550.0  2021-03-19   \n",
       "\n",
       "         totalInfected  newInfected  totalDeaths  newdeaths  recovered  \\\n",
       "1095275            265            0            5          0        NaN   \n",
       "1754711            149            0            3          0        NaN   \n",
       "1542775          16099          156          411          7        NaN   \n",
       "\n",
       "         followUp  \n",
       "1095275       NaN  \n",
       "1754711       NaN  \n",
       "1542775       NaN  "
      ]
     },
     "execution_count": 19,
     "metadata": {},
     "output_type": "execute_result"
    }
   ],
   "source": [
    "df_clean.sample(3)"
   ]
  },
  {
   "cell_type": "markdown",
   "metadata": {},
   "source": [
    "### #Missing values (Fixing NaN data values)"
   ]
  },
  {
   "cell_type": "markdown",
   "metadata": {},
   "source": [
    "* There are missing values from cities that have no name, let's disregard these values. "
   ]
  },
  {
   "cell_type": "markdown",
   "metadata": {},
   "source": [
    "#### Define"
   ]
  },
  {
   "cell_type": "markdown",
   "metadata": {},
   "source": [
    "* Let's exclude these cities from the analysis, because we have no way of knowing which names"
   ]
  },
  {
   "cell_type": "markdown",
   "metadata": {},
   "source": [
    "* In our project the \"city\" column is essential for our analysis, so lines that have this missing data must be excluded, so let's clean up the lines without cities. For this we will use the \"codcity\" column."
   ]
  },
  {
   "cell_type": "markdown",
   "metadata": {},
   "source": [
    "#### Code"
   ]
  },
  {
   "cell_type": "code",
   "execution_count": 20,
   "metadata": {},
   "outputs": [],
   "source": [
    "#Filter only not null lines (NaN)\n",
    "df_clean_notnull = df_clean.dropna(subset=['codcity'])"
   ]
  },
  {
   "cell_type": "markdown",
   "metadata": {},
   "source": [
    "#### Test"
   ]
  },
  {
   "cell_type": "code",
   "execution_count": 22,
   "metadata": {},
   "outputs": [
    {
     "data": {
      "text/plain": [
       "(5591, 11)"
      ]
     },
     "execution_count": 22,
     "metadata": {},
     "output_type": "execute_result"
    }
   ],
   "source": [
    "df_clean_notnull.shape"
   ]
  },
  {
   "cell_type": "code",
   "execution_count": 23,
   "metadata": {},
   "outputs": [
    {
     "data": {
      "text/plain": [
       "region           5591\n",
       "state            5591\n",
       "city             5570\n",
       "codcity          5591\n",
       "date             5591\n",
       "totalInfected    5591\n",
       "newInfected      5591\n",
       "totalDeaths      5591\n",
       "newdeaths        5591\n",
       "recovered           0\n",
       "followUp            0\n",
       "dtype: int64"
      ]
     },
     "execution_count": 23,
     "metadata": {},
     "output_type": "execute_result"
    }
   ],
   "source": [
    "df_clean_notnull.count()"
   ]
  },
  {
   "cell_type": "markdown",
   "metadata": {},
   "source": [
    "### #Duplicated Data"
   ]
  },
  {
   "cell_type": "markdown",
   "metadata": {},
   "source": [
    "##### Another important information is that in Brazil we have some cities with the same names but in different states."
   ]
  },
  {
   "cell_type": "markdown",
   "metadata": {},
   "source": [
    "Is there really duplicate data? Cities with the same names but different states.\n",
    "\n",
    "For this reason, we will not use the column 'city' (the name of the city) in our analysis. So let's use codmun to make our analysis more useful. And that is also why we are not going to delete this duplicate data.\n",
    "\n",
    "Let's take a look at the analysis of duplicate data below to understand the problem."
   ]
  },
  {
   "cell_type": "markdown",
   "metadata": {},
   "source": [
    "##### Total number of cities"
   ]
  },
  {
   "cell_type": "code",
   "execution_count": 24,
   "metadata": {},
   "outputs": [
    {
     "data": {
      "text/plain": [
       "5570"
      ]
     },
     "execution_count": 24,
     "metadata": {},
     "output_type": "execute_result"
    }
   ],
   "source": [
    "df_clean_notnull['city'].count()"
   ]
  },
  {
   "cell_type": "markdown",
   "metadata": {},
   "source": [
    "##### Counting the unique values for the \"city\" column"
   ]
  },
  {
   "cell_type": "code",
   "execution_count": 25,
   "metadata": {},
   "outputs": [
    {
     "data": {
      "text/plain": [
       "5297"
      ]
     },
     "execution_count": 25,
     "metadata": {},
     "output_type": "execute_result"
    }
   ],
   "source": [
    "df_clean_notnull['city'].nunique()"
   ]
  },
  {
   "cell_type": "markdown",
   "metadata": {},
   "source": [
    "##### Counting the occurrence of the value of cities"
   ]
  },
  {
   "cell_type": "code",
   "execution_count": 26,
   "metadata": {},
   "outputs": [
    {
     "data": {
      "text/plain": [
       "Bom Jesus          5\n",
       "São Domingos       5\n",
       "Santa Inês         4\n",
       "Santa Helena       4\n",
       "Vera Cruz          4\n",
       "Santa Terezinha    4\n",
       "São Francisco      4\n",
       "Planalto           4\n",
       "Santa Luzia        4\n",
       "Bonito             4\n",
       "Name: city, dtype: int64"
      ]
     },
     "execution_count": 26,
     "metadata": {},
     "output_type": "execute_result"
    }
   ],
   "source": [
    "df_clean_notnull['city'].value_counts().sort_values(ascending=False).head(10)"
   ]
  },
  {
   "cell_type": "markdown",
   "metadata": {},
   "source": [
    "##### List of times that the city Bom Jesus appears\n",
    "\n",
    "For example, the city Bom Jesus appears 5 times in the dataset but each city has a different state. Because they are really different cities in the country."
   ]
  },
  {
   "cell_type": "code",
   "execution_count": 27,
   "metadata": {},
   "outputs": [
    {
     "data": {
      "text/html": [
       "<div>\n",
       "<style scoped>\n",
       "    .dataframe tbody tr th:only-of-type {\n",
       "        vertical-align: middle;\n",
       "    }\n",
       "\n",
       "    .dataframe tbody tr th {\n",
       "        vertical-align: top;\n",
       "    }\n",
       "\n",
       "    .dataframe thead th {\n",
       "        text-align: right;\n",
       "    }\n",
       "</style>\n",
       "<table border=\"1\" class=\"dataframe\">\n",
       "  <thead>\n",
       "    <tr style=\"text-align: right;\">\n",
       "      <th></th>\n",
       "      <th>region</th>\n",
       "      <th>state</th>\n",
       "      <th>city</th>\n",
       "      <th>codcity</th>\n",
       "      <th>date</th>\n",
       "      <th>totalInfected</th>\n",
       "      <th>newInfected</th>\n",
       "      <th>totalDeaths</th>\n",
       "      <th>newdeaths</th>\n",
       "      <th>recovered</th>\n",
       "      <th>followUp</th>\n",
       "    </tr>\n",
       "  </thead>\n",
       "  <tbody>\n",
       "    <tr>\n",
       "      <th>262567</th>\n",
       "      <td>Nordeste</td>\n",
       "      <td>PI</td>\n",
       "      <td>Bom Jesus</td>\n",
       "      <td>220190.0</td>\n",
       "      <td>2021-03-19</td>\n",
       "      <td>2338</td>\n",
       "      <td>5</td>\n",
       "      <td>27</td>\n",
       "      <td>0</td>\n",
       "      <td>NaN</td>\n",
       "      <td>NaN</td>\n",
       "    </tr>\n",
       "    <tr>\n",
       "      <th>405051</th>\n",
       "      <td>Nordeste</td>\n",
       "      <td>RN</td>\n",
       "      <td>Bom Jesus</td>\n",
       "      <td>240170.0</td>\n",
       "      <td>2021-03-19</td>\n",
       "      <td>516</td>\n",
       "      <td>-4</td>\n",
       "      <td>10</td>\n",
       "      <td>0</td>\n",
       "      <td>NaN</td>\n",
       "      <td>NaN</td>\n",
       "    </tr>\n",
       "    <tr>\n",
       "      <th>469849</th>\n",
       "      <td>Nordeste</td>\n",
       "      <td>PB</td>\n",
       "      <td>Bom Jesus</td>\n",
       "      <td>250220.0</td>\n",
       "      <td>2021-03-19</td>\n",
       "      <td>96</td>\n",
       "      <td>1</td>\n",
       "      <td>3</td>\n",
       "      <td>0</td>\n",
       "      <td>NaN</td>\n",
       "      <td>NaN</td>\n",
       "    </tr>\n",
       "    <tr>\n",
       "      <th>1575353</th>\n",
       "      <td>Sul</td>\n",
       "      <td>SC</td>\n",
       "      <td>Bom Jesus</td>\n",
       "      <td>420253.0</td>\n",
       "      <td>2021-03-19</td>\n",
       "      <td>297</td>\n",
       "      <td>1</td>\n",
       "      <td>4</td>\n",
       "      <td>0</td>\n",
       "      <td>NaN</td>\n",
       "      <td>NaN</td>\n",
       "    </tr>\n",
       "    <tr>\n",
       "      <th>1684185</th>\n",
       "      <td>Sul</td>\n",
       "      <td>RS</td>\n",
       "      <td>Bom Jesus</td>\n",
       "      <td>430230.0</td>\n",
       "      <td>2021-03-19</td>\n",
       "      <td>490</td>\n",
       "      <td>0</td>\n",
       "      <td>12</td>\n",
       "      <td>0</td>\n",
       "      <td>NaN</td>\n",
       "      <td>NaN</td>\n",
       "    </tr>\n",
       "  </tbody>\n",
       "</table>\n",
       "</div>"
      ],
      "text/plain": [
       "           region state       city   codcity        date  totalInfected  \\\n",
       "262567   Nordeste    PI  Bom Jesus  220190.0  2021-03-19           2338   \n",
       "405051   Nordeste    RN  Bom Jesus  240170.0  2021-03-19            516   \n",
       "469849   Nordeste    PB  Bom Jesus  250220.0  2021-03-19             96   \n",
       "1575353       Sul    SC  Bom Jesus  420253.0  2021-03-19            297   \n",
       "1684185       Sul    RS  Bom Jesus  430230.0  2021-03-19            490   \n",
       "\n",
       "         newInfected  totalDeaths  newdeaths  recovered  followUp  \n",
       "262567             5           27          0        NaN       NaN  \n",
       "405051            -4           10          0        NaN       NaN  \n",
       "469849             1            3          0        NaN       NaN  \n",
       "1575353            1            4          0        NaN       NaN  \n",
       "1684185            0           12          0        NaN       NaN  "
      ]
     },
     "execution_count": 27,
     "metadata": {},
     "output_type": "execute_result"
    }
   ],
   "source": [
    "df_clean_notnull[df_clean_notnull['city'] == 'Bom Jesus'].head(5)"
   ]
  },
  {
   "cell_type": "markdown",
   "metadata": {},
   "source": [
    "##### Total cities with duplicate names"
   ]
  },
  {
   "cell_type": "code",
   "execution_count": 28,
   "metadata": {},
   "outputs": [
    {
     "data": {
      "text/plain": [
       "293"
      ]
     },
     "execution_count": 28,
     "metadata": {},
     "output_type": "execute_result"
    }
   ],
   "source": [
    "sum(df_clean_notnull.duplicated(subset='city', keep='first'))"
   ]
  }
 ],
 "metadata": {
  "kernelspec": {
   "display_name": "Python 3",
   "language": "python",
   "name": "python3"
  },
  "language_info": {
   "codemirror_mode": {
    "name": "ipython",
    "version": 3
   },
   "file_extension": ".py",
   "mimetype": "text/x-python",
   "name": "python",
   "nbconvert_exporter": "python",
   "pygments_lexer": "ipython3",
   "version": "3.6.5"
  }
 },
 "nbformat": 4,
 "nbformat_minor": 2
}
