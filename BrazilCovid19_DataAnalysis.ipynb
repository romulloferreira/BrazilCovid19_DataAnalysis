{
 "cells": [
  {
   "cell_type": "markdown",
   "metadata": {},
   "source": [
    "# Brazil Covid-19 Data Analysis"
   ]
  },
  {
   "cell_type": "markdown",
   "metadata": {},
   "source": [
    "#### Author: Romullo Ferreira"
   ]
  },
  {
   "cell_type": "markdown",
   "metadata": {},
   "source": [
    "The aim of this project is to analyze Covid-19 (Brazil) data, which includes the following steps:\n",
    "\n",
    "1. Defining the list of questions to be answered with data analysis.\n",
    "2. Data wrangling \n",
    "    - 2.1. Gather\n",
    "    - 2.2. Assess\n",
    "    - 2.3. Clean\n",
    "3. Data exploration and effective communication of the exploratory steps.\n",
    "4. Conclusions."
   ]
  },
  {
   "cell_type": "markdown",
   "metadata": {},
   "source": [
    "Useful facts about the data:\n",
    "- epidemiological situation of COVID-19 in Brazil\n",
    "- The data update process is carried out daily by the Ministry of Health through official information provided by the State Health Secretariats of the 27 Brazilian Federative Units\n",
    "- 27 states of Brazil\n",
    "- 5 regions of brazil (Central-West, North, Northeast, South and Southeast)\n",
    "- Data were collected from 2021-03-09 to 2021-03-18\n",
    "- Data Source: State Health Secretariats. Brazil, 2020\n",
    "- Detailed data can be downloaded from [OpenDataSUS](https://opendatasus.saude.gov.br/)\n",
    "- You can also access the [Brazilian Open Data Portal](https://dados.gov.br/dataset) to find more coronavirus data"
   ]
  },
  {
   "cell_type": "markdown",
   "metadata": {},
   "source": [
    "## 1. Defining the list of questions to be answered with data analysis\n",
    "\n",
    "We have a lot of things to ask. The dataset has a lot of information, but for the analysis not to be too long I decided to ask some questions that I thought were important as a start. But after taking a look at my analysis feel free to ask other questions and analyze.\n",
    "\n",
    "It is important to remember that All questions below refer to Covid-19 data from Brazil:\n",
    "\n",
    "- a. - What is the total accumulated cases?\n",
    "- b. - What is the total new cases?\n",
    "- c. - What is the total recovered cases?\n",
    "- d. - What is the total followup cases?\n",
    "- e. - What is the total Covid-19 deaths?\n",
    "- f. - What is the total new deaths?\n",
    "- g. - What is the Incidence Coefficient of Covid-19?\n",
    "- h. - What is the Mortality Coefficient for Covid-19?\n",
    "- i. - What is the Covid-19 Lethality Rate?\n",
    "- j. - Which region(zone) has the highest Covid-19 Cases?\n",
    "- k. - Which states have the highest number of covid cases?\n",
    "- l. - Which cities have the highest number of covid cases?\n",
    "- m. - Which region(zone) has the highest Covid-19 deaths?\n",
    "- n. - Which states have the highest number of covid deaths?\n",
    "- o. - Which cities have the highest number of covid deaths?"
   ]
  },
  {
   "cell_type": "markdown",
   "metadata": {},
   "source": [
    "## 2. Data wrangling"
   ]
  },
  {
   "cell_type": "markdown",
   "metadata": {},
   "source": [
    "## 2.1. Gather"
   ]
  },
  {
   "cell_type": "markdown",
   "metadata": {},
   "source": [
    "Firstly, let's import all the libraries necessary for this project"
   ]
  },
  {
   "cell_type": "code",
   "execution_count": 3,
   "metadata": {},
   "outputs": [
    {
     "name": "stderr",
     "output_type": "stream",
     "text": [
      "/usr/local/lib/python3.6/dist-packages/matplotlib/__init__.py:886: MatplotlibDeprecationWarning: \n",
      "examples.directory is deprecated; in the future, examples will be found relative to the 'datapath' directory.\n",
      "  \"found relative to the 'datapath' directory.\".format(key))\n"
     ]
    }
   ],
   "source": [
    "import pandas as pd\n",
    "import numpy as np\n",
    "\n",
    "import matplotlib.pyplot as plt\n",
    "import seaborn as sns\n",
    "%matplotlib inline"
   ]
  },
  {
   "cell_type": "markdown",
   "metadata": {},
   "source": [
    "Import CSV File"
   ]
  },
  {
   "cell_type": "code",
   "execution_count": 4,
   "metadata": {},
   "outputs": [],
   "source": [
    "df_covid19br = pd.read_csv('COVIDBR.csv', sep=';')"
   ]
  },
  {
   "cell_type": "markdown",
   "metadata": {},
   "source": [
    "## 2.2. Assess"
   ]
  },
  {
   "cell_type": "markdown",
   "metadata": {},
   "source": [
    "Let's take a look at the dataframe"
   ]
  },
  {
   "cell_type": "code",
   "execution_count": 5,
   "metadata": {},
   "outputs": [
    {
     "data": {
      "text/html": [
       "<div>\n",
       "<style scoped>\n",
       "    .dataframe tbody tr th:only-of-type {\n",
       "        vertical-align: middle;\n",
       "    }\n",
       "\n",
       "    .dataframe tbody tr th {\n",
       "        vertical-align: top;\n",
       "    }\n",
       "\n",
       "    .dataframe thead th {\n",
       "        text-align: right;\n",
       "    }\n",
       "</style>\n",
       "<table border=\"1\" class=\"dataframe\">\n",
       "  <thead>\n",
       "    <tr style=\"text-align: right;\">\n",
       "      <th></th>\n",
       "      <th>regiao</th>\n",
       "      <th>estado</th>\n",
       "      <th>municipio</th>\n",
       "      <th>coduf</th>\n",
       "      <th>codmun</th>\n",
       "      <th>codRegiaoSaude</th>\n",
       "      <th>nomeRegiaoSaude</th>\n",
       "      <th>data</th>\n",
       "      <th>semanaEpi</th>\n",
       "      <th>populacaoTCU2019</th>\n",
       "      <th>casosAcumulado</th>\n",
       "      <th>casosNovos</th>\n",
       "      <th>obitosAcumulado</th>\n",
       "      <th>obitosNovos</th>\n",
       "      <th>Recuperadosnovos</th>\n",
       "      <th>emAcompanhamentoNovos</th>\n",
       "      <th>interior/metropolitana</th>\n",
       "    </tr>\n",
       "  </thead>\n",
       "  <tbody>\n",
       "    <tr>\n",
       "      <th>45540</th>\n",
       "      <td>Norte</td>\n",
       "      <td>AM</td>\n",
       "      <td>Eirunepé</td>\n",
       "      <td>13</td>\n",
       "      <td>130140.0</td>\n",
       "      <td>13007.0</td>\n",
       "      <td>REGIONAL JURUA</td>\n",
       "      <td>2020-12-30</td>\n",
       "      <td>53</td>\n",
       "      <td>35273.0</td>\n",
       "      <td>2709</td>\n",
       "      <td>0</td>\n",
       "      <td>12</td>\n",
       "      <td>0</td>\n",
       "      <td>NaN</td>\n",
       "      <td>NaN</td>\n",
       "      <td>0.0</td>\n",
       "    </tr>\n",
       "    <tr>\n",
       "      <th>418060</th>\n",
       "      <td>Nordeste</td>\n",
       "      <td>RN</td>\n",
       "      <td>Jaçanã</td>\n",
       "      <td>24</td>\n",
       "      <td>240500.0</td>\n",
       "      <td>24005.0</td>\n",
       "      <td>5ª REGIAO DE SAUDE - SANTA CRUZ</td>\n",
       "      <td>2020-07-25</td>\n",
       "      <td>30</td>\n",
       "      <td>9133.0</td>\n",
       "      <td>168</td>\n",
       "      <td>0</td>\n",
       "      <td>1</td>\n",
       "      <td>0</td>\n",
       "      <td>NaN</td>\n",
       "      <td>NaN</td>\n",
       "      <td>0.0</td>\n",
       "    </tr>\n",
       "    <tr>\n",
       "      <th>497409</th>\n",
       "      <td>Nordeste</td>\n",
       "      <td>PB</td>\n",
       "      <td>Mãe d'Água</td>\n",
       "      <td>25</td>\n",
       "      <td>250870.0</td>\n",
       "      <td>25006.0</td>\n",
       "      <td>6ª REGIAO</td>\n",
       "      <td>2021-03-13</td>\n",
       "      <td>10</td>\n",
       "      <td>4009.0</td>\n",
       "      <td>129</td>\n",
       "      <td>1</td>\n",
       "      <td>4</td>\n",
       "      <td>0</td>\n",
       "      <td>NaN</td>\n",
       "      <td>NaN</td>\n",
       "      <td>0.0</td>\n",
       "    </tr>\n",
       "  </tbody>\n",
       "</table>\n",
       "</div>"
      ],
      "text/plain": [
       "          regiao estado   municipio  coduf    codmun  codRegiaoSaude  \\\n",
       "45540      Norte     AM    Eirunepé     13  130140.0         13007.0   \n",
       "418060  Nordeste     RN      Jaçanã     24  240500.0         24005.0   \n",
       "497409  Nordeste     PB  Mãe d'Água     25  250870.0         25006.0   \n",
       "\n",
       "                        nomeRegiaoSaude        data  semanaEpi  \\\n",
       "45540                    REGIONAL JURUA  2020-12-30         53   \n",
       "418060  5ª REGIAO DE SAUDE - SANTA CRUZ  2020-07-25         30   \n",
       "497409                        6ª REGIAO  2021-03-13         10   \n",
       "\n",
       "        populacaoTCU2019  casosAcumulado  casosNovos  obitosAcumulado  \\\n",
       "45540            35273.0            2709           0               12   \n",
       "418060            9133.0             168           0                1   \n",
       "497409            4009.0             129           1                4   \n",
       "\n",
       "        obitosNovos  Recuperadosnovos  emAcompanhamentoNovos  \\\n",
       "45540             0               NaN                    NaN   \n",
       "418060            0               NaN                    NaN   \n",
       "497409            0               NaN                    NaN   \n",
       "\n",
       "        interior/metropolitana  \n",
       "45540                      0.0  \n",
       "418060                     0.0  \n",
       "497409                     0.0  "
      ]
     },
     "execution_count": 5,
     "metadata": {},
     "output_type": "execute_result"
    }
   ],
   "source": [
    "df_covid19br.sample(3)"
   ]
  },
  {
   "cell_type": "markdown",
   "metadata": {},
   "source": [
    "We can already see that there are missing values in the columns estado, municipio, codmun and other columns for example."
   ]
  },
  {
   "cell_type": "markdown",
   "metadata": {},
   "source": [
    "Here we can see the size of original dataset, 2.012.472 rows e 17 columns."
   ]
  },
  {
   "cell_type": "code",
   "execution_count": 6,
   "metadata": {},
   "outputs": [
    {
     "data": {
      "text/plain": [
       "(2012472, 17)"
      ]
     },
     "execution_count": 6,
     "metadata": {},
     "output_type": "execute_result"
    }
   ],
   "source": [
    "df_covid19br.shape"
   ]
  },
  {
   "cell_type": "markdown",
   "metadata": {},
   "source": [
    "Let's count the unique values"
   ]
  },
  {
   "cell_type": "code",
   "execution_count": 7,
   "metadata": {},
   "outputs": [
    {
     "data": {
      "text/plain": [
       "regiao                        6\n",
       "estado                       27\n",
       "municipio                  5297\n",
       "coduf                        28\n",
       "codmun                     5591\n",
       "codRegiaoSaude              450\n",
       "nomeRegiaoSaude             440\n",
       "data                        389\n",
       "semanaEpi                    53\n",
       "populacaoTCU2019           5104\n",
       "casosAcumulado            33078\n",
       "casosNovos                 3779\n",
       "obitosAcumulado            7273\n",
       "obitosNovos                 641\n",
       "Recuperadosnovos            336\n",
       "emAcompanhamentoNovos       336\n",
       "interior/metropolitana        2\n",
       "dtype: int64"
      ]
     },
     "execution_count": 7,
     "metadata": {},
     "output_type": "execute_result"
    }
   ],
   "source": [
    "df_covid19br.nunique()"
   ]
  },
  {
   "cell_type": "markdown",
   "metadata": {},
   "source": [
    "##### Let's create a copy of the original dataframe. And create another dataframe (filtered_df) with just today's date data, which is where I'm going to focus my analysis."
   ]
  },
  {
   "cell_type": "code",
   "execution_count": 8,
   "metadata": {
    "scrolled": true
   },
   "outputs": [
    {
     "data": {
      "text/html": [
       "<div>\n",
       "<style scoped>\n",
       "    .dataframe tbody tr th:only-of-type {\n",
       "        vertical-align: middle;\n",
       "    }\n",
       "\n",
       "    .dataframe tbody tr th {\n",
       "        vertical-align: top;\n",
       "    }\n",
       "\n",
       "    .dataframe thead th {\n",
       "        text-align: right;\n",
       "    }\n",
       "</style>\n",
       "<table border=\"1\" class=\"dataframe\">\n",
       "  <thead>\n",
       "    <tr style=\"text-align: right;\">\n",
       "      <th></th>\n",
       "      <th>regiao</th>\n",
       "      <th>estado</th>\n",
       "      <th>municipio</th>\n",
       "      <th>coduf</th>\n",
       "      <th>codmun</th>\n",
       "      <th>codRegiaoSaude</th>\n",
       "      <th>nomeRegiaoSaude</th>\n",
       "      <th>data</th>\n",
       "      <th>semanaEpi</th>\n",
       "      <th>populacaoTCU2019</th>\n",
       "      <th>casosAcumulado</th>\n",
       "      <th>casosNovos</th>\n",
       "      <th>obitosAcumulado</th>\n",
       "      <th>obitosNovos</th>\n",
       "      <th>Recuperadosnovos</th>\n",
       "      <th>emAcompanhamentoNovos</th>\n",
       "      <th>interior/metropolitana</th>\n",
       "    </tr>\n",
       "  </thead>\n",
       "  <tbody>\n",
       "    <tr>\n",
       "      <th>800641</th>\n",
       "      <td>Nordeste</td>\n",
       "      <td>BA</td>\n",
       "      <td>Saúde</td>\n",
       "      <td>29</td>\n",
       "      <td>292980.0</td>\n",
       "      <td>29014.0</td>\n",
       "      <td>JACOBINA</td>\n",
       "      <td>2021-03-19</td>\n",
       "      <td>11</td>\n",
       "      <td>12913.0</td>\n",
       "      <td>325</td>\n",
       "      <td>2</td>\n",
       "      <td>2</td>\n",
       "      <td>0</td>\n",
       "      <td>NaN</td>\n",
       "      <td>NaN</td>\n",
       "      <td>0.0</td>\n",
       "    </tr>\n",
       "    <tr>\n",
       "      <th>1022243</th>\n",
       "      <td>Sudeste</td>\n",
       "      <td>MG</td>\n",
       "      <td>Pedra Azul</td>\n",
       "      <td>31</td>\n",
       "      <td>314870.0</td>\n",
       "      <td>31068.0</td>\n",
       "      <td>PEDRA AZUL</td>\n",
       "      <td>2021-03-19</td>\n",
       "      <td>11</td>\n",
       "      <td>24324.0</td>\n",
       "      <td>936</td>\n",
       "      <td>2</td>\n",
       "      <td>22</td>\n",
       "      <td>0</td>\n",
       "      <td>NaN</td>\n",
       "      <td>NaN</td>\n",
       "      <td>0.0</td>\n",
       "    </tr>\n",
       "    <tr>\n",
       "      <th>1759365</th>\n",
       "      <td>Sul</td>\n",
       "      <td>RS</td>\n",
       "      <td>Montenegro</td>\n",
       "      <td>43</td>\n",
       "      <td>431240.0</td>\n",
       "      <td>43008.0</td>\n",
       "      <td>REGIAO 08</td>\n",
       "      <td>2021-03-19</td>\n",
       "      <td>11</td>\n",
       "      <td>65264.0</td>\n",
       "      <td>5550</td>\n",
       "      <td>182</td>\n",
       "      <td>76</td>\n",
       "      <td>1</td>\n",
       "      <td>NaN</td>\n",
       "      <td>NaN</td>\n",
       "      <td>1.0</td>\n",
       "    </tr>\n",
       "  </tbody>\n",
       "</table>\n",
       "</div>"
      ],
      "text/plain": [
       "           regiao estado   municipio  coduf    codmun  codRegiaoSaude  \\\n",
       "800641   Nordeste     BA       Saúde     29  292980.0         29014.0   \n",
       "1022243   Sudeste     MG  Pedra Azul     31  314870.0         31068.0   \n",
       "1759365       Sul     RS  Montenegro     43  431240.0         43008.0   \n",
       "\n",
       "        nomeRegiaoSaude        data  semanaEpi  populacaoTCU2019  \\\n",
       "800641         JACOBINA  2021-03-19         11           12913.0   \n",
       "1022243      PEDRA AZUL  2021-03-19         11           24324.0   \n",
       "1759365       REGIAO 08  2021-03-19         11           65264.0   \n",
       "\n",
       "         casosAcumulado  casosNovos  obitosAcumulado  obitosNovos  \\\n",
       "800641              325           2                2            0   \n",
       "1022243             936           2               22            0   \n",
       "1759365            5550         182               76            1   \n",
       "\n",
       "         Recuperadosnovos  emAcompanhamentoNovos  interior/metropolitana  \n",
       "800641                NaN                    NaN                     0.0  \n",
       "1022243               NaN                    NaN                     0.0  \n",
       "1759365               NaN                    NaN                     1.0  "
      ]
     },
     "execution_count": 8,
     "metadata": {},
     "output_type": "execute_result"
    }
   ],
   "source": [
    "filtered_df = df_covid19br.copy()\n",
    "filtered_df = filtered_df.query(\"data > '2021-03-18'\")\n",
    "filtered_df.sample(3)"
   ]
  },
  {
   "cell_type": "markdown",
   "metadata": {},
   "source": [
    "Dimensions of the dataframe. Here we can already see that our filtered dataframe is much smaller than the original file, with 5619 rows and 17 columns. "
   ]
  },
  {
   "cell_type": "code",
   "execution_count": 9,
   "metadata": {},
   "outputs": [
    {
     "data": {
      "text/plain": [
       "(5619, 17)"
      ]
     },
     "execution_count": 9,
     "metadata": {},
     "output_type": "execute_result"
    }
   ],
   "source": [
    "filtered_df.shape"
   ]
  },
  {
   "cell_type": "markdown",
   "metadata": {},
   "source": [
    "- Which columns have missing values? \n",
    "- Here we can already see that the \"munincipio\" column has only 5570 against 5619 of the original file. This means that we have 49 missing values. And the \"codmun\" column has only 5591 out of a total of 5619, this means that we have 28 missing values. Let's keep that information."
   ]
  },
  {
   "cell_type": "code",
   "execution_count": 10,
   "metadata": {
    "scrolled": true
   },
   "outputs": [
    {
     "name": "stdout",
     "output_type": "stream",
     "text": [
      "<class 'pandas.core.frame.DataFrame'>\n",
      "Int64Index: 5619 entries, 390 to 2012471\n",
      "Data columns (total 17 columns):\n",
      " #   Column                  Non-Null Count  Dtype  \n",
      "---  ------                  --------------  -----  \n",
      " 0   regiao                  5619 non-null   object \n",
      " 1   estado                  5618 non-null   object \n",
      " 2   municipio               5570 non-null   object \n",
      " 3   coduf                   5619 non-null   int64  \n",
      " 4   codmun                  5591 non-null   float64\n",
      " 5   codRegiaoSaude          5570 non-null   float64\n",
      " 6   nomeRegiaoSaude         5570 non-null   object \n",
      " 7   data                    5619 non-null   object \n",
      " 8   semanaEpi               5619 non-null   int64  \n",
      " 9   populacaoTCU2019        5598 non-null   float64\n",
      " 10  casosAcumulado          5619 non-null   int64  \n",
      " 11  casosNovos              5619 non-null   int64  \n",
      " 12  obitosAcumulado         5619 non-null   int64  \n",
      " 13  obitosNovos             5619 non-null   int64  \n",
      " 14  Recuperadosnovos        1 non-null      float64\n",
      " 15  emAcompanhamentoNovos   1 non-null      float64\n",
      " 16  interior/metropolitana  5570 non-null   float64\n",
      "dtypes: float64(6), int64(6), object(5)\n",
      "memory usage: 790.2+ KB\n"
     ]
    }
   ],
   "source": [
    "filtered_df.info()"
   ]
  },
  {
   "cell_type": "markdown",
   "metadata": {},
   "source": [
    "Another way to see missing values. Count of missing values."
   ]
  },
  {
   "cell_type": "code",
   "execution_count": 11,
   "metadata": {},
   "outputs": [
    {
     "data": {
      "text/plain": [
       "regiao                       0\n",
       "estado                       1\n",
       "municipio                   49\n",
       "coduf                        0\n",
       "codmun                      28\n",
       "codRegiaoSaude              49\n",
       "nomeRegiaoSaude             49\n",
       "data                         0\n",
       "semanaEpi                    0\n",
       "populacaoTCU2019            21\n",
       "casosAcumulado               0\n",
       "casosNovos                   0\n",
       "obitosAcumulado              0\n",
       "obitosNovos                  0\n",
       "Recuperadosnovos          5618\n",
       "emAcompanhamentoNovos     5618\n",
       "interior/metropolitana      49\n",
       "dtype: int64"
      ]
     },
     "execution_count": 11,
     "metadata": {},
     "output_type": "execute_result"
    }
   ],
   "source": [
    "filtered_df.isnull().sum()"
   ]
  }
 ],
 "metadata": {
  "kernelspec": {
   "display_name": "Python 3",
   "language": "python",
   "name": "python3"
  },
  "language_info": {
   "codemirror_mode": {
    "name": "ipython",
    "version": 3
   },
   "file_extension": ".py",
   "mimetype": "text/x-python",
   "name": "python",
   "nbconvert_exporter": "python",
   "pygments_lexer": "ipython3",
   "version": "3.6.9"
  }
 },
 "nbformat": 4,
 "nbformat_minor": 2
}
