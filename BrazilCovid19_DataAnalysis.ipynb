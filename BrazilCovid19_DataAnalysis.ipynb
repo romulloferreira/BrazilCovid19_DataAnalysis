{
 "cells": [
  {
   "cell_type": "markdown",
   "metadata": {},
   "source": [
    "# Brazil Covid-19 Data Analysis"
   ]
  },
  {
   "cell_type": "markdown",
   "metadata": {},
   "source": [
    "#### Author: Romullo Ferreira"
   ]
  },
  {
   "cell_type": "markdown",
   "metadata": {},
   "source": [
    "The aim of this project is to analyze Covid-19 (Brazil) data, which includes the following steps:\n",
    "\n",
    "1. Defining the list of questions to be answered with data analysis.\n",
    "2. Data wrangling \n",
    "    - 2.1. Gather\n",
    "    - 2.2. Assess\n",
    "    - 2.3. Clean\n",
    "3. Data exploration and effective communication of the exploratory steps.\n",
    "4. Conclusions."
   ]
  },
  {
   "cell_type": "markdown",
   "metadata": {},
   "source": [
    "Useful facts about the data:\n",
    "- epidemiological situation of COVID-19 in Brazil\n",
    "- The data update process is carried out daily by the Ministry of Health through official information provided by the State Health Secretariats of the 27 Brazilian Federative Units\n",
    "- 27 states of Brazil\n",
    "- 5 regions of brazil (Central-West, North, Northeast, South and Southeast)\n",
    "- Data were collected from 2021-03-09 to 2021-03-18\n",
    "- Data Source: State Health Secretariats. Brazil, 2020\n",
    "- Detailed data can be downloaded from [OpenDataSUS](https://opendatasus.saude.gov.br/)\n",
    "- You can also access the [Brazilian Open Data Portal](https://dados.gov.br/dataset) to find more coronavirus data"
   ]
  },
  {
   "cell_type": "markdown",
   "metadata": {},
   "source": [
    "## 1. Defining the list of questions to be answered with data analysis\n",
    "\n",
    "We have a lot of things to ask. The dataset has a lot of information, but for the analysis not to be too long I decided to ask some questions that I thought were important as a start. But after taking a look at my analysis feel free to ask other questions and analyze.\n",
    "\n",
    "It is important to remember that All questions below refer to Covid-19 data from Brazil:\n",
    "\n",
    "- a. - What is the total accumulated cases?\n",
    "- b. - What is the total new cases?\n",
    "- c. - What is the total recovered cases?\n",
    "- d. - What is the total followup cases?\n",
    "- e. - What is the total Covid-19 deaths?\n",
    "- f. - What is the total new deaths?\n",
    "- g. - What is the Incidence Coefficient of Covid-19?\n",
    "- h. - What is the Mortality Coefficient for Covid-19?\n",
    "- i. - What is the Covid-19 Lethality Rate?\n",
    "- j. - Which region(zone) has the highest Covid-19 Cases?\n",
    "- k. - Which states have the highest number of covid cases?\n",
    "- l. - Which cities have the highest number of covid cases?\n",
    "- m. - Which region(zone) has the highest Covid-19 deaths?\n",
    "- n. - Which states have the highest number of covid deaths?\n",
    "- o. - Which cities have the highest number of covid deaths?"
   ]
  },
  {
   "cell_type": "markdown",
   "metadata": {},
   "source": [
    "## 2. Data wrangling"
   ]
  },
  {
   "cell_type": "markdown",
   "metadata": {},
   "source": [
    "## 2.1. Gather"
   ]
  },
  {
   "cell_type": "markdown",
   "metadata": {},
   "source": [
    "Firstly, let's import all the libraries necessary for this project"
   ]
  },
  {
   "cell_type": "code",
   "execution_count": 1,
   "metadata": {},
   "outputs": [],
   "source": [
    "import pandas as pd\n",
    "import numpy as np\n",
    "\n",
    "import matplotlib.pyplot as plt\n",
    "import seaborn as sns\n",
    "%matplotlib inline"
   ]
  },
  {
   "cell_type": "markdown",
   "metadata": {},
   "source": [
    "Import CSV File"
   ]
  },
  {
   "cell_type": "code",
   "execution_count": 2,
   "metadata": {},
   "outputs": [],
   "source": [
    "df_covid19br = pd.read_csv('COVIDBR.csv', sep=';')"
   ]
  },
  {
   "cell_type": "markdown",
   "metadata": {},
   "source": [
    "## 2.2. Assess"
   ]
  },
  {
   "cell_type": "markdown",
   "metadata": {},
   "source": [
    "Let's take a look at the dataframe"
   ]
  },
  {
   "cell_type": "code",
   "execution_count": 3,
   "metadata": {},
   "outputs": [
    {
     "data": {
      "text/html": [
       "<div>\n",
       "<style scoped>\n",
       "    .dataframe tbody tr th:only-of-type {\n",
       "        vertical-align: middle;\n",
       "    }\n",
       "\n",
       "    .dataframe tbody tr th {\n",
       "        vertical-align: top;\n",
       "    }\n",
       "\n",
       "    .dataframe thead th {\n",
       "        text-align: right;\n",
       "    }\n",
       "</style>\n",
       "<table border=\"1\" class=\"dataframe\">\n",
       "  <thead>\n",
       "    <tr style=\"text-align: right;\">\n",
       "      <th></th>\n",
       "      <th>regiao</th>\n",
       "      <th>estado</th>\n",
       "      <th>municipio</th>\n",
       "      <th>coduf</th>\n",
       "      <th>codmun</th>\n",
       "      <th>codRegiaoSaude</th>\n",
       "      <th>nomeRegiaoSaude</th>\n",
       "      <th>data</th>\n",
       "      <th>semanaEpi</th>\n",
       "      <th>populacaoTCU2019</th>\n",
       "      <th>casosAcumulado</th>\n",
       "      <th>casosNovos</th>\n",
       "      <th>obitosAcumulado</th>\n",
       "      <th>obitosNovos</th>\n",
       "      <th>Recuperadosnovos</th>\n",
       "      <th>emAcompanhamentoNovos</th>\n",
       "      <th>interior/metropolitana</th>\n",
       "    </tr>\n",
       "  </thead>\n",
       "  <tbody>\n",
       "    <tr>\n",
       "      <th>955025</th>\n",
       "      <td>Sudeste</td>\n",
       "      <td>MG</td>\n",
       "      <td>Itatiaiuçu</td>\n",
       "      <td>31</td>\n",
       "      <td>313370.0</td>\n",
       "      <td>31031.0</td>\n",
       "      <td>ITAUNA</td>\n",
       "      <td>2020-06-20</td>\n",
       "      <td>25</td>\n",
       "      <td>11146.0</td>\n",
       "      <td>37</td>\n",
       "      <td>-3</td>\n",
       "      <td>1</td>\n",
       "      <td>0</td>\n",
       "      <td>NaN</td>\n",
       "      <td>NaN</td>\n",
       "      <td>1.0</td>\n",
       "    </tr>\n",
       "    <tr>\n",
       "      <th>895825</th>\n",
       "      <td>Sudeste</td>\n",
       "      <td>MG</td>\n",
       "      <td>Coronel Pacheco</td>\n",
       "      <td>31</td>\n",
       "      <td>311960.0</td>\n",
       "      <td>31097.0</td>\n",
       "      <td>JUIZ DE FORA</td>\n",
       "      <td>2021-02-03</td>\n",
       "      <td>5</td>\n",
       "      <td>3086.0</td>\n",
       "      <td>101</td>\n",
       "      <td>0</td>\n",
       "      <td>4</td>\n",
       "      <td>0</td>\n",
       "      <td>NaN</td>\n",
       "      <td>NaN</td>\n",
       "      <td>0.0</td>\n",
       "    </tr>\n",
       "    <tr>\n",
       "      <th>1352189</th>\n",
       "      <td>Sudeste</td>\n",
       "      <td>SP</td>\n",
       "      <td>Presidente Epitácio</td>\n",
       "      <td>35</td>\n",
       "      <td>354130.0</td>\n",
       "      <td>35114.0</td>\n",
       "      <td>EXTREMO OESTE PAULISTA</td>\n",
       "      <td>2020-11-09</td>\n",
       "      <td>46</td>\n",
       "      <td>44200.0</td>\n",
       "      <td>612</td>\n",
       "      <td>0</td>\n",
       "      <td>20</td>\n",
       "      <td>0</td>\n",
       "      <td>NaN</td>\n",
       "      <td>NaN</td>\n",
       "      <td>0.0</td>\n",
       "    </tr>\n",
       "  </tbody>\n",
       "</table>\n",
       "</div>"
      ],
      "text/plain": [
       "          regiao estado            municipio  coduf    codmun  codRegiaoSaude  \\\n",
       "955025   Sudeste     MG           Itatiaiuçu     31  313370.0         31031.0   \n",
       "895825   Sudeste     MG      Coronel Pacheco     31  311960.0         31097.0   \n",
       "1352189  Sudeste     SP  Presidente Epitácio     35  354130.0         35114.0   \n",
       "\n",
       "                nomeRegiaoSaude        data  semanaEpi  populacaoTCU2019  \\\n",
       "955025                   ITAUNA  2020-06-20         25           11146.0   \n",
       "895825             JUIZ DE FORA  2021-02-03          5            3086.0   \n",
       "1352189  EXTREMO OESTE PAULISTA  2020-11-09         46           44200.0   \n",
       "\n",
       "         casosAcumulado  casosNovos  obitosAcumulado  obitosNovos  \\\n",
       "955025               37          -3                1            0   \n",
       "895825              101           0                4            0   \n",
       "1352189             612           0               20            0   \n",
       "\n",
       "         Recuperadosnovos  emAcompanhamentoNovos  interior/metropolitana  \n",
       "955025                NaN                    NaN                     1.0  \n",
       "895825                NaN                    NaN                     0.0  \n",
       "1352189               NaN                    NaN                     0.0  "
      ]
     },
     "execution_count": 3,
     "metadata": {},
     "output_type": "execute_result"
    }
   ],
   "source": [
    "df_covid19br.sample(3)"
   ]
  },
  {
   "cell_type": "markdown",
   "metadata": {},
   "source": [
    "We can already see that there are missing values in the columns estado, municipio, codmun and other columns for example."
   ]
  },
  {
   "cell_type": "markdown",
   "metadata": {},
   "source": [
    "Here we can see the size of original dataset, 2.012.472 rows e 17 columns."
   ]
  },
  {
   "cell_type": "code",
   "execution_count": 4,
   "metadata": {},
   "outputs": [
    {
     "data": {
      "text/plain": [
       "(2012472, 17)"
      ]
     },
     "execution_count": 4,
     "metadata": {},
     "output_type": "execute_result"
    }
   ],
   "source": [
    "df_covid19br.shape"
   ]
  },
  {
   "cell_type": "markdown",
   "metadata": {},
   "source": [
    "Let's count the unique values"
   ]
  },
  {
   "cell_type": "code",
   "execution_count": 5,
   "metadata": {},
   "outputs": [
    {
     "data": {
      "text/plain": [
       "regiao                        6\n",
       "estado                       27\n",
       "municipio                  5297\n",
       "coduf                        28\n",
       "codmun                     5591\n",
       "codRegiaoSaude              450\n",
       "nomeRegiaoSaude             440\n",
       "data                        389\n",
       "semanaEpi                    53\n",
       "populacaoTCU2019           5104\n",
       "casosAcumulado            33078\n",
       "casosNovos                 3779\n",
       "obitosAcumulado            7273\n",
       "obitosNovos                 641\n",
       "Recuperadosnovos            336\n",
       "emAcompanhamentoNovos       336\n",
       "interior/metropolitana        2\n",
       "dtype: int64"
      ]
     },
     "execution_count": 5,
     "metadata": {},
     "output_type": "execute_result"
    }
   ],
   "source": [
    "df_covid19br.nunique()"
   ]
  },
  {
   "cell_type": "markdown",
   "metadata": {},
   "source": [
    "##### Let's create a copy of the original dataframe. And create another dataframe (filtered_df) with just today's date data, which is where I'm going to focus my analysis."
   ]
  },
  {
   "cell_type": "code",
   "execution_count": 6,
   "metadata": {
    "scrolled": true
   },
   "outputs": [
    {
     "data": {
      "text/html": [
       "<div>\n",
       "<style scoped>\n",
       "    .dataframe tbody tr th:only-of-type {\n",
       "        vertical-align: middle;\n",
       "    }\n",
       "\n",
       "    .dataframe tbody tr th {\n",
       "        vertical-align: top;\n",
       "    }\n",
       "\n",
       "    .dataframe thead th {\n",
       "        text-align: right;\n",
       "    }\n",
       "</style>\n",
       "<table border=\"1\" class=\"dataframe\">\n",
       "  <thead>\n",
       "    <tr style=\"text-align: right;\">\n",
       "      <th></th>\n",
       "      <th>regiao</th>\n",
       "      <th>estado</th>\n",
       "      <th>municipio</th>\n",
       "      <th>coduf</th>\n",
       "      <th>codmun</th>\n",
       "      <th>codRegiaoSaude</th>\n",
       "      <th>nomeRegiaoSaude</th>\n",
       "      <th>data</th>\n",
       "      <th>semanaEpi</th>\n",
       "      <th>populacaoTCU2019</th>\n",
       "      <th>casosAcumulado</th>\n",
       "      <th>casosNovos</th>\n",
       "      <th>obitosAcumulado</th>\n",
       "      <th>obitosNovos</th>\n",
       "      <th>Recuperadosnovos</th>\n",
       "      <th>emAcompanhamentoNovos</th>\n",
       "      <th>interior/metropolitana</th>\n",
       "    </tr>\n",
       "  </thead>\n",
       "  <tbody>\n",
       "    <tr>\n",
       "      <th>198485</th>\n",
       "      <td>Nordeste</td>\n",
       "      <td>MA</td>\n",
       "      <td>Feira Nova do Maranhão</td>\n",
       "      <td>21</td>\n",
       "      <td>210407.0</td>\n",
       "      <td>21003.0</td>\n",
       "      <td>BALSAS</td>\n",
       "      <td>2021-03-19</td>\n",
       "      <td>11</td>\n",
       "      <td>8504.0</td>\n",
       "      <td>1288</td>\n",
       "      <td>0</td>\n",
       "      <td>5</td>\n",
       "      <td>0</td>\n",
       "      <td>NaN</td>\n",
       "      <td>NaN</td>\n",
       "      <td>0.0</td>\n",
       "    </tr>\n",
       "    <tr>\n",
       "      <th>1994571</th>\n",
       "      <td>Centro-Oeste</td>\n",
       "      <td>GO</td>\n",
       "      <td>Rio Quente</td>\n",
       "      <td>52</td>\n",
       "      <td>521878.0</td>\n",
       "      <td>52005.0</td>\n",
       "      <td>ESTRADA DE FERRO</td>\n",
       "      <td>2021-03-19</td>\n",
       "      <td>11</td>\n",
       "      <td>4493.0</td>\n",
       "      <td>283</td>\n",
       "      <td>4</td>\n",
       "      <td>1</td>\n",
       "      <td>0</td>\n",
       "      <td>NaN</td>\n",
       "      <td>NaN</td>\n",
       "      <td>0.0</td>\n",
       "    </tr>\n",
       "    <tr>\n",
       "      <th>346339</th>\n",
       "      <td>Nordeste</td>\n",
       "      <td>CE</td>\n",
       "      <td>Carnaubal</td>\n",
       "      <td>23</td>\n",
       "      <td>230340.0</td>\n",
       "      <td>23013.0</td>\n",
       "      <td>13ª REGIAO TIANGUA</td>\n",
       "      <td>2021-03-19</td>\n",
       "      <td>11</td>\n",
       "      <td>17606.0</td>\n",
       "      <td>972</td>\n",
       "      <td>0</td>\n",
       "      <td>10</td>\n",
       "      <td>0</td>\n",
       "      <td>NaN</td>\n",
       "      <td>NaN</td>\n",
       "      <td>0.0</td>\n",
       "    </tr>\n",
       "  </tbody>\n",
       "</table>\n",
       "</div>"
      ],
      "text/plain": [
       "               regiao estado               municipio  coduf    codmun  \\\n",
       "198485       Nordeste     MA  Feira Nova do Maranhão     21  210407.0   \n",
       "1994571  Centro-Oeste     GO              Rio Quente     52  521878.0   \n",
       "346339       Nordeste     CE               Carnaubal     23  230340.0   \n",
       "\n",
       "         codRegiaoSaude     nomeRegiaoSaude        data  semanaEpi  \\\n",
       "198485          21003.0              BALSAS  2021-03-19         11   \n",
       "1994571         52005.0    ESTRADA DE FERRO  2021-03-19         11   \n",
       "346339          23013.0  13ª REGIAO TIANGUA  2021-03-19         11   \n",
       "\n",
       "         populacaoTCU2019  casosAcumulado  casosNovos  obitosAcumulado  \\\n",
       "198485             8504.0            1288           0                5   \n",
       "1994571            4493.0             283           4                1   \n",
       "346339            17606.0             972           0               10   \n",
       "\n",
       "         obitosNovos  Recuperadosnovos  emAcompanhamentoNovos  \\\n",
       "198485             0               NaN                    NaN   \n",
       "1994571            0               NaN                    NaN   \n",
       "346339             0               NaN                    NaN   \n",
       "\n",
       "         interior/metropolitana  \n",
       "198485                      0.0  \n",
       "1994571                     0.0  \n",
       "346339                      0.0  "
      ]
     },
     "execution_count": 6,
     "metadata": {},
     "output_type": "execute_result"
    }
   ],
   "source": [
    "filtered_df = df_covid19br.copy()\n",
    "filtered_df = filtered_df.query(\"data > '2021-03-18'\")\n",
    "filtered_df.sample(3)"
   ]
  },
  {
   "cell_type": "markdown",
   "metadata": {},
   "source": [
    "Dimensions of the dataframe. Here we can already see that our filtered dataframe is much smaller than the original file, with 5619 rows and 17 columns. "
   ]
  },
  {
   "cell_type": "code",
   "execution_count": 7,
   "metadata": {},
   "outputs": [
    {
     "data": {
      "text/plain": [
       "(5619, 17)"
      ]
     },
     "execution_count": 7,
     "metadata": {},
     "output_type": "execute_result"
    }
   ],
   "source": [
    "filtered_df.shape"
   ]
  },
  {
   "cell_type": "markdown",
   "metadata": {},
   "source": [
    "- Which columns have missing values? \n",
    "- Here we can already see that the \"munincipio\" column has only 5570 against 5619 of the original file. This means that we have 49 missing values. And the \"codmun\" column has only 5591 out of a total of 5619, this means that we have 28 missing values. Let's keep that information."
   ]
  },
  {
   "cell_type": "code",
   "execution_count": 8,
   "metadata": {
    "scrolled": true
   },
   "outputs": [
    {
     "name": "stdout",
     "output_type": "stream",
     "text": [
      "<class 'pandas.core.frame.DataFrame'>\n",
      "Int64Index: 5619 entries, 390 to 2012471\n",
      "Data columns (total 17 columns):\n",
      "regiao                    5619 non-null object\n",
      "estado                    5618 non-null object\n",
      "municipio                 5570 non-null object\n",
      "coduf                     5619 non-null int64\n",
      "codmun                    5591 non-null float64\n",
      "codRegiaoSaude            5570 non-null float64\n",
      "nomeRegiaoSaude           5570 non-null object\n",
      "data                      5619 non-null object\n",
      "semanaEpi                 5619 non-null int64\n",
      "populacaoTCU2019          5598 non-null float64\n",
      "casosAcumulado            5619 non-null int64\n",
      "casosNovos                5619 non-null int64\n",
      "obitosAcumulado           5619 non-null int64\n",
      "obitosNovos               5619 non-null int64\n",
      "Recuperadosnovos          1 non-null float64\n",
      "emAcompanhamentoNovos     1 non-null float64\n",
      "interior/metropolitana    5570 non-null float64\n",
      "dtypes: float64(6), int64(6), object(5)\n",
      "memory usage: 790.2+ KB\n"
     ]
    }
   ],
   "source": [
    "filtered_df.info()"
   ]
  },
  {
   "cell_type": "markdown",
   "metadata": {},
   "source": [
    "Another way to see missing values. Count of missing values."
   ]
  },
  {
   "cell_type": "code",
   "execution_count": 9,
   "metadata": {},
   "outputs": [
    {
     "data": {
      "text/plain": [
       "regiao                       0\n",
       "estado                       1\n",
       "municipio                   49\n",
       "coduf                        0\n",
       "codmun                      28\n",
       "codRegiaoSaude              49\n",
       "nomeRegiaoSaude             49\n",
       "data                         0\n",
       "semanaEpi                    0\n",
       "populacaoTCU2019            21\n",
       "casosAcumulado               0\n",
       "casosNovos                   0\n",
       "obitosAcumulado              0\n",
       "obitosNovos                  0\n",
       "Recuperadosnovos          5618\n",
       "emAcompanhamentoNovos     5618\n",
       "interior/metropolitana      49\n",
       "dtype: int64"
      ]
     },
     "execution_count": 9,
     "metadata": {},
     "output_type": "execute_result"
    }
   ],
   "source": [
    "filtered_df.isnull().sum()"
   ]
  }
 ],
 "metadata": {
  "kernelspec": {
   "display_name": "Python 3",
   "language": "python",
   "name": "python3"
  },
  "language_info": {
   "codemirror_mode": {
    "name": "ipython",
    "version": 3
   },
   "file_extension": ".py",
   "mimetype": "text/x-python",
   "name": "python",
   "nbconvert_exporter": "python",
   "pygments_lexer": "ipython3",
   "version": "3.6.5"
  }
 },
 "nbformat": 4,
 "nbformat_minor": 2
}
